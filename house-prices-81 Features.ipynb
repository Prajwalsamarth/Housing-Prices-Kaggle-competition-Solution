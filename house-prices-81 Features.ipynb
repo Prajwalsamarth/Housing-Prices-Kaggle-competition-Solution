{
 "cells": [
  {
   "cell_type": "code",
   "execution_count": 1,
   "metadata": {},
   "outputs": [],
   "source": [
    "import numpy as np\n",
    "import pandas as pd \n",
    "import matplotlib.pyplot as plt\n",
    "import seaborn as sns \n",
    "import scipy.stats as st \n",
    "import os\n",
    "from tqdm import tqdm\n",
    "os.chdir('D:\\Shashi Katteri\\Desktop\\data sets to work on\\house-prices-advanced-regression-techniques')"
   ]
  },
  {
   "cell_type": "code",
   "execution_count": 163,
   "metadata": {},
   "outputs": [],
   "source": [
    "df1=pd.read_csv('train.csv')\n",
    "df2=pd.read_csv('test.csv')"
   ]
  },
  {
   "cell_type": "code",
   "execution_count": 164,
   "metadata": {},
   "outputs": [],
   "source": [
    "df=pd.concat([df1,df2],sort=False)"
   ]
  },
  {
   "cell_type": "code",
   "execution_count": 7,
   "metadata": {},
   "outputs": [
    {
     "data": {
      "text/html": [
       "<div>\n",
       "<style scoped>\n",
       "    .dataframe tbody tr th:only-of-type {\n",
       "        vertical-align: middle;\n",
       "    }\n",
       "\n",
       "    .dataframe tbody tr th {\n",
       "        vertical-align: top;\n",
       "    }\n",
       "\n",
       "    .dataframe thead th {\n",
       "        text-align: right;\n",
       "    }\n",
       "</style>\n",
       "<table border=\"1\" class=\"dataframe\">\n",
       "  <thead>\n",
       "    <tr style=\"text-align: right;\">\n",
       "      <th></th>\n",
       "      <th>MSZoning</th>\n",
       "      <th>Street</th>\n",
       "      <th>Alley</th>\n",
       "      <th>LotShape</th>\n",
       "      <th>LandContour</th>\n",
       "      <th>Utilities</th>\n",
       "      <th>LotConfig</th>\n",
       "      <th>LandSlope</th>\n",
       "      <th>Neighborhood</th>\n",
       "      <th>Condition1</th>\n",
       "      <th>...</th>\n",
       "      <th>GarageType</th>\n",
       "      <th>GarageFinish</th>\n",
       "      <th>GarageQual</th>\n",
       "      <th>GarageCond</th>\n",
       "      <th>PavedDrive</th>\n",
       "      <th>PoolQC</th>\n",
       "      <th>Fence</th>\n",
       "      <th>MiscFeature</th>\n",
       "      <th>SaleType</th>\n",
       "      <th>SaleCondition</th>\n",
       "    </tr>\n",
       "  </thead>\n",
       "  <tbody>\n",
       "    <tr>\n",
       "      <td>count</td>\n",
       "      <td>2915</td>\n",
       "      <td>2919</td>\n",
       "      <td>198</td>\n",
       "      <td>2919</td>\n",
       "      <td>2919</td>\n",
       "      <td>2917</td>\n",
       "      <td>2919</td>\n",
       "      <td>2919</td>\n",
       "      <td>2919</td>\n",
       "      <td>2919</td>\n",
       "      <td>...</td>\n",
       "      <td>2762</td>\n",
       "      <td>2760</td>\n",
       "      <td>2760</td>\n",
       "      <td>2760</td>\n",
       "      <td>2919</td>\n",
       "      <td>10</td>\n",
       "      <td>571</td>\n",
       "      <td>105</td>\n",
       "      <td>2918</td>\n",
       "      <td>2919</td>\n",
       "    </tr>\n",
       "    <tr>\n",
       "      <td>unique</td>\n",
       "      <td>5</td>\n",
       "      <td>2</td>\n",
       "      <td>2</td>\n",
       "      <td>4</td>\n",
       "      <td>4</td>\n",
       "      <td>2</td>\n",
       "      <td>5</td>\n",
       "      <td>3</td>\n",
       "      <td>25</td>\n",
       "      <td>9</td>\n",
       "      <td>...</td>\n",
       "      <td>6</td>\n",
       "      <td>3</td>\n",
       "      <td>5</td>\n",
       "      <td>5</td>\n",
       "      <td>3</td>\n",
       "      <td>3</td>\n",
       "      <td>4</td>\n",
       "      <td>4</td>\n",
       "      <td>9</td>\n",
       "      <td>6</td>\n",
       "    </tr>\n",
       "    <tr>\n",
       "      <td>top</td>\n",
       "      <td>RL</td>\n",
       "      <td>Pave</td>\n",
       "      <td>Grvl</td>\n",
       "      <td>Reg</td>\n",
       "      <td>Lvl</td>\n",
       "      <td>AllPub</td>\n",
       "      <td>Inside</td>\n",
       "      <td>Gtl</td>\n",
       "      <td>NAmes</td>\n",
       "      <td>Norm</td>\n",
       "      <td>...</td>\n",
       "      <td>Attchd</td>\n",
       "      <td>Unf</td>\n",
       "      <td>TA</td>\n",
       "      <td>TA</td>\n",
       "      <td>Y</td>\n",
       "      <td>Ex</td>\n",
       "      <td>MnPrv</td>\n",
       "      <td>Shed</td>\n",
       "      <td>WD</td>\n",
       "      <td>Normal</td>\n",
       "    </tr>\n",
       "    <tr>\n",
       "      <td>freq</td>\n",
       "      <td>2265</td>\n",
       "      <td>2907</td>\n",
       "      <td>120</td>\n",
       "      <td>1859</td>\n",
       "      <td>2622</td>\n",
       "      <td>2916</td>\n",
       "      <td>2133</td>\n",
       "      <td>2778</td>\n",
       "      <td>443</td>\n",
       "      <td>2511</td>\n",
       "      <td>...</td>\n",
       "      <td>1723</td>\n",
       "      <td>1230</td>\n",
       "      <td>2604</td>\n",
       "      <td>2654</td>\n",
       "      <td>2641</td>\n",
       "      <td>4</td>\n",
       "      <td>329</td>\n",
       "      <td>95</td>\n",
       "      <td>2525</td>\n",
       "      <td>2402</td>\n",
       "    </tr>\n",
       "  </tbody>\n",
       "</table>\n",
       "<p>4 rows × 43 columns</p>\n",
       "</div>"
      ],
      "text/plain": [
       "       MSZoning Street Alley LotShape LandContour Utilities LotConfig  \\\n",
       "count      2915   2919   198     2919        2919      2917      2919   \n",
       "unique        5      2     2        4           4         2         5   \n",
       "top          RL   Pave  Grvl      Reg         Lvl    AllPub    Inside   \n",
       "freq       2265   2907   120     1859        2622      2916      2133   \n",
       "\n",
       "       LandSlope Neighborhood Condition1  ... GarageType GarageFinish  \\\n",
       "count       2919         2919       2919  ...       2762         2760   \n",
       "unique         3           25          9  ...          6            3   \n",
       "top          Gtl        NAmes       Norm  ...     Attchd          Unf   \n",
       "freq        2778          443       2511  ...       1723         1230   \n",
       "\n",
       "       GarageQual GarageCond PavedDrive PoolQC  Fence MiscFeature SaleType  \\\n",
       "count        2760       2760       2919     10    571         105     2918   \n",
       "unique          5          5          3      3      4           4        9   \n",
       "top            TA         TA          Y     Ex  MnPrv        Shed       WD   \n",
       "freq         2604       2654       2641      4    329          95     2525   \n",
       "\n",
       "       SaleCondition  \n",
       "count           2919  \n",
       "unique             6  \n",
       "top           Normal  \n",
       "freq            2402  \n",
       "\n",
       "[4 rows x 43 columns]"
      ]
     },
     "execution_count": 7,
     "metadata": {},
     "output_type": "execute_result"
    }
   ],
   "source": [
    "df.describe(include='object')"
   ]
  },
  {
   "cell_type": "code",
   "execution_count": 33,
   "metadata": {},
   "outputs": [
    {
     "name": "stdout",
     "output_type": "stream",
     "text": [
      "<class 'pandas.core.frame.DataFrame'>\n",
      "Int64Index: 2919 entries, 0 to 1458\n",
      "Data columns (total 81 columns):\n",
      "Id               2919 non-null int64\n",
      "MSSubClass       2919 non-null int64\n",
      "MSZoning         2915 non-null object\n",
      "LotFrontage      2433 non-null float64\n",
      "LotArea          2919 non-null int64\n",
      "Street           2919 non-null object\n",
      "Alley            198 non-null object\n",
      "LotShape         2919 non-null object\n",
      "LandContour      2919 non-null object\n",
      "Utilities        2917 non-null object\n",
      "LotConfig        2919 non-null object\n",
      "LandSlope        2919 non-null object\n",
      "Neighborhood     2919 non-null object\n",
      "Condition1       2919 non-null object\n",
      "Condition2       2919 non-null object\n",
      "BldgType         2919 non-null object\n",
      "HouseStyle       2919 non-null object\n",
      "OverallQual      2919 non-null int64\n",
      "OverallCond      2919 non-null int64\n",
      "YearBuilt        2919 non-null int64\n",
      "YearRemodAdd     2919 non-null int64\n",
      "RoofStyle        2919 non-null object\n",
      "RoofMatl         2919 non-null object\n",
      "Exterior1st      2918 non-null object\n",
      "Exterior2nd      2918 non-null object\n",
      "MasVnrType       2895 non-null object\n",
      "MasVnrArea       2896 non-null float64\n",
      "ExterQual        2919 non-null object\n",
      "ExterCond        2919 non-null object\n",
      "Foundation       2919 non-null object\n",
      "BsmtQual         2838 non-null object\n",
      "BsmtCond         2837 non-null object\n",
      "BsmtExposure     2837 non-null object\n",
      "BsmtFinType1     2840 non-null object\n",
      "BsmtFinSF1       2918 non-null float64\n",
      "BsmtFinType2     2839 non-null object\n",
      "BsmtFinSF2       2918 non-null float64\n",
      "BsmtUnfSF        2918 non-null float64\n",
      "TotalBsmtSF      2918 non-null float64\n",
      "Heating          2919 non-null object\n",
      "HeatingQC        2919 non-null object\n",
      "CentralAir       2919 non-null object\n",
      "Electrical       2918 non-null object\n",
      "1stFlrSF         2919 non-null int64\n",
      "2ndFlrSF         2919 non-null int64\n",
      "LowQualFinSF     2919 non-null int64\n",
      "GrLivArea        2919 non-null int64\n",
      "BsmtFullBath     2917 non-null float64\n",
      "BsmtHalfBath     2917 non-null float64\n",
      "FullBath         2919 non-null int64\n",
      "HalfBath         2919 non-null int64\n",
      "BedroomAbvGr     2919 non-null int64\n",
      "KitchenAbvGr     2919 non-null int64\n",
      "KitchenQual      2918 non-null object\n",
      "TotRmsAbvGrd     2919 non-null int64\n",
      "Functional       2917 non-null object\n",
      "Fireplaces       2919 non-null int64\n",
      "FireplaceQu      1499 non-null object\n",
      "GarageType       2762 non-null object\n",
      "GarageYrBlt      2760 non-null float64\n",
      "GarageFinish     2760 non-null object\n",
      "GarageCars       2918 non-null float64\n",
      "GarageArea       2918 non-null float64\n",
      "GarageQual       2760 non-null object\n",
      "GarageCond       2760 non-null object\n",
      "PavedDrive       2919 non-null object\n",
      "WoodDeckSF       2919 non-null int64\n",
      "OpenPorchSF      2919 non-null int64\n",
      "EnclosedPorch    2919 non-null int64\n",
      "3SsnPorch        2919 non-null int64\n",
      "ScreenPorch      2919 non-null int64\n",
      "PoolArea         2919 non-null int64\n",
      "PoolQC           10 non-null object\n",
      "Fence            571 non-null object\n",
      "MiscFeature      105 non-null object\n",
      "MiscVal          2919 non-null int64\n",
      "MoSold           2919 non-null int64\n",
      "YrSold           2919 non-null int64\n",
      "SaleType         2918 non-null object\n",
      "SaleCondition    2919 non-null object\n",
      "SalePrice        1460 non-null float64\n",
      "dtypes: float64(12), int64(26), object(43)\n",
      "memory usage: 1.8+ MB\n"
     ]
    }
   ],
   "source": [
    "df.info()"
   ]
  },
  {
   "cell_type": "code",
   "execution_count": 165,
   "metadata": {},
   "outputs": [],
   "source": [
    "na=df.isnull().sum()"
   ]
  },
  {
   "cell_type": "code",
   "execution_count": 166,
   "metadata": {},
   "outputs": [],
   "source": [
    "na=na[na>0]"
   ]
  },
  {
   "cell_type": "code",
   "execution_count": 167,
   "metadata": {},
   "outputs": [],
   "source": [
    "na_cols=list(na.index)"
   ]
  },
  {
   "cell_type": "code",
   "execution_count": 168,
   "metadata": {},
   "outputs": [],
   "source": [
    "na=df[na_cols].copy()"
   ]
  },
  {
   "cell_type": "code",
   "execution_count": 169,
   "metadata": {},
   "outputs": [
    {
     "name": "stdout",
     "output_type": "stream",
     "text": [
      "<class 'pandas.core.frame.DataFrame'>\n",
      "Int64Index: 2919 entries, 0 to 1458\n",
      "Data columns (total 35 columns):\n",
      "MSZoning        2915 non-null object\n",
      "LotFrontage     2433 non-null float64\n",
      "Alley           198 non-null object\n",
      "Utilities       2917 non-null object\n",
      "Exterior1st     2918 non-null object\n",
      "Exterior2nd     2918 non-null object\n",
      "MasVnrType      2895 non-null object\n",
      "MasVnrArea      2896 non-null float64\n",
      "BsmtQual        2838 non-null object\n",
      "BsmtCond        2837 non-null object\n",
      "BsmtExposure    2837 non-null object\n",
      "BsmtFinType1    2840 non-null object\n",
      "BsmtFinSF1      2918 non-null float64\n",
      "BsmtFinType2    2839 non-null object\n",
      "BsmtFinSF2      2918 non-null float64\n",
      "BsmtUnfSF       2918 non-null float64\n",
      "TotalBsmtSF     2918 non-null float64\n",
      "Electrical      2918 non-null object\n",
      "BsmtFullBath    2917 non-null float64\n",
      "BsmtHalfBath    2917 non-null float64\n",
      "KitchenQual     2918 non-null object\n",
      "Functional      2917 non-null object\n",
      "FireplaceQu     1499 non-null object\n",
      "GarageType      2762 non-null object\n",
      "GarageYrBlt     2760 non-null float64\n",
      "GarageFinish    2760 non-null object\n",
      "GarageCars      2918 non-null float64\n",
      "GarageArea      2918 non-null float64\n",
      "GarageQual      2760 non-null object\n",
      "GarageCond      2760 non-null object\n",
      "PoolQC          10 non-null object\n",
      "Fence           571 non-null object\n",
      "MiscFeature     105 non-null object\n",
      "SaleType        2918 non-null object\n",
      "SalePrice       1460 non-null float64\n",
      "dtypes: float64(12), object(23)\n",
      "memory usage: 821.0+ KB\n"
     ]
    }
   ],
   "source": [
    "na.info()"
   ]
  },
  {
   "cell_type": "code",
   "execution_count": 170,
   "metadata": {},
   "outputs": [],
   "source": [
    "dummy_cols=['PoolQC','Fence','MiscFeature','Alley']\n",
    "nan_na= ['BsmtQual','BsmtCond','BsmtExposure','BsmtFinType1','BsmtFinType2','GarageType','GarageYrBlt',\n",
    " 'GarageFinish', 'GarageQual', 'GarageCond','GarageCars','GarageArea','BsmtFinSF1','BsmtFinSF2','BsmtUnfSF','TotalBsmtSF','FireplaceQu']\n",
    "na=na.drop(dummy_cols+['SalePrice'],axis=1)"
   ]
  },
  {
   "cell_type": "code",
   "execution_count": 171,
   "metadata": {},
   "outputs": [
    {
     "name": "stderr",
     "output_type": "stream",
     "text": [
      "100%|██████████| 30/30 [00:00<00:00, 1355.86it/s]\n"
     ]
    }
   ],
   "source": [
    "na_mod={}\n",
    "for i in tqdm(na.columns):\n",
    "    if i not in nan_na: \n",
    "        if na[i].dtype=='O':\n",
    "            mx=df1[i].value_counts()[df1[i].value_counts()==df1[i].value_counts().max()].index[0]\n",
    "            na[i]=na[i].replace(np.nan,mx)\n",
    "            na_mod[i]=mx\n",
    "\n",
    "        elif na[i].dtype=='float64':\n",
    "            mx=df1[i].median()\n",
    "            na[i]=na[i].replace(np.nan,mx)\n",
    "        "
   ]
  },
  {
   "cell_type": "code",
   "execution_count": 172,
   "metadata": {},
   "outputs": [
    {
     "name": "stdout",
     "output_type": "stream",
     "text": [
      "<class 'pandas.core.frame.DataFrame'>\n",
      "Int64Index: 2919 entries, 0 to 1458\n",
      "Data columns (total 30 columns):\n",
      "MSZoning        2919 non-null object\n",
      "LotFrontage     2919 non-null float64\n",
      "Utilities       2919 non-null object\n",
      "Exterior1st     2919 non-null object\n",
      "Exterior2nd     2919 non-null object\n",
      "MasVnrType      2919 non-null object\n",
      "MasVnrArea      2919 non-null float64\n",
      "BsmtQual        2838 non-null object\n",
      "BsmtCond        2837 non-null object\n",
      "BsmtExposure    2837 non-null object\n",
      "BsmtFinType1    2840 non-null object\n",
      "BsmtFinSF1      2918 non-null float64\n",
      "BsmtFinType2    2839 non-null object\n",
      "BsmtFinSF2      2918 non-null float64\n",
      "BsmtUnfSF       2918 non-null float64\n",
      "TotalBsmtSF     2918 non-null float64\n",
      "Electrical      2919 non-null object\n",
      "BsmtFullBath    2919 non-null float64\n",
      "BsmtHalfBath    2919 non-null float64\n",
      "KitchenQual     2919 non-null object\n",
      "Functional      2919 non-null object\n",
      "FireplaceQu     1499 non-null object\n",
      "GarageType      2762 non-null object\n",
      "GarageYrBlt     2760 non-null float64\n",
      "GarageFinish    2760 non-null object\n",
      "GarageCars      2918 non-null float64\n",
      "GarageArea      2918 non-null float64\n",
      "GarageQual      2760 non-null object\n",
      "GarageCond      2760 non-null object\n",
      "SaleType        2919 non-null object\n",
      "dtypes: float64(11), object(19)\n",
      "memory usage: 706.9+ KB\n"
     ]
    }
   ],
   "source": [
    "na.info()\n",
    "    "
   ]
  },
  {
   "cell_type": "code",
   "execution_count": 173,
   "metadata": {},
   "outputs": [
    {
     "data": {
      "text/plain": [
       "{'MSZoning': 'RL',\n",
       " 'Utilities': 'AllPub',\n",
       " 'Exterior1st': 'VinylSd',\n",
       " 'Exterior2nd': 'VinylSd',\n",
       " 'MasVnrType': 'None',\n",
       " 'Electrical': 'SBrkr',\n",
       " 'KitchenQual': 'TA',\n",
       " 'Functional': 'Typ',\n",
       " 'SaleType': 'WD'}"
      ]
     },
     "execution_count": 173,
     "metadata": {},
     "output_type": "execute_result"
    }
   ],
   "source": [
    "na_mod   "
   ]
  },
  {
   "cell_type": "code",
   "execution_count": 174,
   "metadata": {
    "scrolled": true
   },
   "outputs": [
    {
     "name": "stderr",
     "output_type": "stream",
     "text": [
      "100%|██████████| 17/17 [00:00<00:00, 1088.23it/s]\n"
     ]
    }
   ],
   "source": [
    "for i in tqdm(nan_na):\n",
    "     \n",
    "    if na[i].dtype=='O':\n",
    "        mx='NA'\n",
    "        na[i]=na[i].replace(np.nan,mx)\n",
    "        na_mod[i]=mx\n",
    "\n",
    "    elif na[i].dtype=='float64':\n",
    "        mx=0.0\n",
    "        na[i]=na[i].replace(np.nan,mx)\n",
    "        "
   ]
  },
  {
   "cell_type": "code",
   "execution_count": 175,
   "metadata": {},
   "outputs": [],
   "source": [
    "for i in na.columns:\n",
    "    df[i]=na[i]\n"
   ]
  },
  {
   "cell_type": "code",
   "execution_count": 78,
   "metadata": {},
   "outputs": [
    {
     "data": {
      "text/plain": [
       "Ex    4\n",
       "Gd    4\n",
       "Fa    2\n",
       "Name: PoolQC, dtype: int64"
      ]
     },
     "execution_count": 78,
     "metadata": {},
     "output_type": "execute_result"
    }
   ],
   "source": [
    "df[dummy_cols[0]].value_counts()"
   ]
  },
  {
   "cell_type": "code",
   "execution_count": 176,
   "metadata": {},
   "outputs": [],
   "source": [
    "for i in dummy_cols:\n",
    "    df[i+'_present']=(~df[i].isnull()).astype(int)\n",
    "    df=df.drop(i,axis=1)"
   ]
  },
  {
   "cell_type": "code",
   "execution_count": 79,
   "metadata": {},
   "outputs": [
    {
     "data": {
      "text/plain": [
       "MnPrv    329\n",
       "GdPrv    118\n",
       "GdWo     112\n",
       "MnWw      12\n",
       "Name: Fence, dtype: int64"
      ]
     },
     "execution_count": 79,
     "metadata": {},
     "output_type": "execute_result"
    }
   ],
   "source": [
    "df[dummy_cols[1]].value_counts()"
   ]
  },
  {
   "cell_type": "code",
   "execution_count": null,
   "metadata": {},
   "outputs": [],
   "source": []
  },
  {
   "cell_type": "code",
   "execution_count": 116,
   "metadata": {},
   "outputs": [
    {
     "data": {
      "text/plain": [
       "Shed    95\n",
       "Gar2     5\n",
       "Othr     4\n",
       "TenC     1\n",
       "Name: MiscFeature, dtype: int64"
      ]
     },
     "execution_count": 116,
     "metadata": {},
     "output_type": "execute_result"
    }
   ],
   "source": [
    "df[dummy_cols[2]].value_counts()"
   ]
  },
  {
   "cell_type": "code",
   "execution_count": 117,
   "metadata": {},
   "outputs": [
    {
     "data": {
      "text/plain": [
       "Grvl    120\n",
       "Pave     78\n",
       "Name: Alley, dtype: int64"
      ]
     },
     "execution_count": 117,
     "metadata": {},
     "output_type": "execute_result"
    }
   ],
   "source": [
    "df[dummy_cols[3]].value_counts()"
   ]
  },
  {
   "cell_type": "code",
   "execution_count": 177,
   "metadata": {},
   "outputs": [
    {
     "name": "stdout",
     "output_type": "stream",
     "text": [
      "<class 'pandas.core.frame.DataFrame'>\n",
      "Int64Index: 2919 entries, 0 to 1458\n",
      "Data columns (total 81 columns):\n",
      "Id                     2919 non-null int64\n",
      "MSSubClass             2919 non-null int64\n",
      "MSZoning               2919 non-null object\n",
      "LotFrontage            2919 non-null float64\n",
      "LotArea                2919 non-null int64\n",
      "Street                 2919 non-null object\n",
      "LotShape               2919 non-null object\n",
      "LandContour            2919 non-null object\n",
      "Utilities              2919 non-null object\n",
      "LotConfig              2919 non-null object\n",
      "LandSlope              2919 non-null object\n",
      "Neighborhood           2919 non-null object\n",
      "Condition1             2919 non-null object\n",
      "Condition2             2919 non-null object\n",
      "BldgType               2919 non-null object\n",
      "HouseStyle             2919 non-null object\n",
      "OverallQual            2919 non-null int64\n",
      "OverallCond            2919 non-null int64\n",
      "YearBuilt              2919 non-null int64\n",
      "YearRemodAdd           2919 non-null int64\n",
      "RoofStyle              2919 non-null object\n",
      "RoofMatl               2919 non-null object\n",
      "Exterior1st            2919 non-null object\n",
      "Exterior2nd            2919 non-null object\n",
      "MasVnrType             2919 non-null object\n",
      "MasVnrArea             2919 non-null float64\n",
      "ExterQual              2919 non-null object\n",
      "ExterCond              2919 non-null object\n",
      "Foundation             2919 non-null object\n",
      "BsmtQual               2919 non-null object\n",
      "BsmtCond               2919 non-null object\n",
      "BsmtExposure           2919 non-null object\n",
      "BsmtFinType1           2919 non-null object\n",
      "BsmtFinSF1             2919 non-null float64\n",
      "BsmtFinType2           2919 non-null object\n",
      "BsmtFinSF2             2919 non-null float64\n",
      "BsmtUnfSF              2919 non-null float64\n",
      "TotalBsmtSF            2919 non-null float64\n",
      "Heating                2919 non-null object\n",
      "HeatingQC              2919 non-null object\n",
      "CentralAir             2919 non-null object\n",
      "Electrical             2919 non-null object\n",
      "1stFlrSF               2919 non-null int64\n",
      "2ndFlrSF               2919 non-null int64\n",
      "LowQualFinSF           2919 non-null int64\n",
      "GrLivArea              2919 non-null int64\n",
      "BsmtFullBath           2919 non-null float64\n",
      "BsmtHalfBath           2919 non-null float64\n",
      "FullBath               2919 non-null int64\n",
      "HalfBath               2919 non-null int64\n",
      "BedroomAbvGr           2919 non-null int64\n",
      "KitchenAbvGr           2919 non-null int64\n",
      "KitchenQual            2919 non-null object\n",
      "TotRmsAbvGrd           2919 non-null int64\n",
      "Functional             2919 non-null object\n",
      "Fireplaces             2919 non-null int64\n",
      "FireplaceQu            2919 non-null object\n",
      "GarageType             2919 non-null object\n",
      "GarageYrBlt            2919 non-null float64\n",
      "GarageFinish           2919 non-null object\n",
      "GarageCars             2919 non-null float64\n",
      "GarageArea             2919 non-null float64\n",
      "GarageQual             2919 non-null object\n",
      "GarageCond             2919 non-null object\n",
      "PavedDrive             2919 non-null object\n",
      "WoodDeckSF             2919 non-null int64\n",
      "OpenPorchSF            2919 non-null int64\n",
      "EnclosedPorch          2919 non-null int64\n",
      "3SsnPorch              2919 non-null int64\n",
      "ScreenPorch            2919 non-null int64\n",
      "PoolArea               2919 non-null int64\n",
      "MiscVal                2919 non-null int64\n",
      "MoSold                 2919 non-null int64\n",
      "YrSold                 2919 non-null int64\n",
      "SaleType               2919 non-null object\n",
      "SaleCondition          2919 non-null object\n",
      "SalePrice              1460 non-null float64\n",
      "PoolQC_present         2919 non-null int32\n",
      "Fence_present          2919 non-null int32\n",
      "MiscFeature_present    2919 non-null int32\n",
      "Alley_present          2919 non-null int32\n",
      "dtypes: float64(12), int32(4), int64(26), object(39)\n",
      "memory usage: 1.8+ MB\n"
     ]
    }
   ],
   "source": [
    "df.info()"
   ]
  },
  {
   "cell_type": "code",
   "execution_count": 179,
   "metadata": {},
   "outputs": [],
   "source": [
    "objs=[]\n",
    "for i in df.columns:\n",
    "    if df[i].dtype=='O':\n",
    "        objs.append(i)"
   ]
  },
  {
   "cell_type": "code",
   "execution_count": 181,
   "metadata": {},
   "outputs": [
    {
     "name": "stdout",
     "output_type": "stream",
     "text": [
      "\n",
      "\n",
      "RL         2269\n",
      "RM          460\n",
      "FV          139\n",
      "RH           26\n",
      "C (all)      25\n",
      "Name: MSZoning, dtype: int64\n",
      "\n",
      "\n",
      "Pave    2907\n",
      "Grvl      12\n",
      "Name: Street, dtype: int64\n",
      "\n",
      "\n",
      "Reg    1859\n",
      "IR1     968\n",
      "IR2      76\n",
      "IR3      16\n",
      "Name: LotShape, dtype: int64\n",
      "\n",
      "\n",
      "Lvl    2622\n",
      "HLS     120\n",
      "Bnk     117\n",
      "Low      60\n",
      "Name: LandContour, dtype: int64\n",
      "\n",
      "\n",
      "AllPub    2918\n",
      "NoSeWa       1\n",
      "Name: Utilities, dtype: int64\n",
      "\n",
      "\n",
      "Inside     2133\n",
      "Corner      511\n",
      "CulDSac     176\n",
      "FR2          85\n",
      "FR3          14\n",
      "Name: LotConfig, dtype: int64\n",
      "\n",
      "\n",
      "Gtl    2778\n",
      "Mod     125\n",
      "Sev      16\n",
      "Name: LandSlope, dtype: int64\n",
      "\n",
      "\n",
      "NAmes      443\n",
      "CollgCr    267\n",
      "OldTown    239\n",
      "Edwards    194\n",
      "Somerst    182\n",
      "NridgHt    166\n",
      "Gilbert    165\n",
      "Sawyer     151\n",
      "NWAmes     131\n",
      "SawyerW    125\n",
      "Mitchel    114\n",
      "BrkSide    108\n",
      "Crawfor    103\n",
      "IDOTRR      93\n",
      "Timber      72\n",
      "NoRidge     71\n",
      "StoneBr     51\n",
      "SWISU       48\n",
      "ClearCr     44\n",
      "MeadowV     37\n",
      "BrDale      30\n",
      "Blmngtn     28\n",
      "Veenker     24\n",
      "NPkVill     23\n",
      "Blueste     10\n",
      "Name: Neighborhood, dtype: int64\n",
      "\n",
      "\n",
      "Norm      2511\n",
      "Feedr      164\n",
      "Artery      92\n",
      "RRAn        50\n",
      "PosN        39\n",
      "RRAe        28\n",
      "PosA        20\n",
      "RRNn         9\n",
      "RRNe         6\n",
      "Name: Condition1, dtype: int64\n",
      "\n",
      "\n",
      "Norm      2889\n",
      "Feedr       13\n",
      "Artery       5\n",
      "PosA         4\n",
      "PosN         4\n",
      "RRNn         2\n",
      "RRAe         1\n",
      "RRAn         1\n",
      "Name: Condition2, dtype: int64\n",
      "\n",
      "\n",
      "1Fam      2425\n",
      "TwnhsE     227\n",
      "Duplex     109\n",
      "Twnhs       96\n",
      "2fmCon      62\n",
      "Name: BldgType, dtype: int64\n",
      "\n",
      "\n",
      "1Story    1471\n",
      "2Story     872\n",
      "1.5Fin     314\n",
      "SLvl       128\n",
      "SFoyer      83\n",
      "2.5Unf      24\n",
      "1.5Unf      19\n",
      "2.5Fin       8\n",
      "Name: HouseStyle, dtype: int64\n",
      "\n",
      "\n",
      "Gable      2310\n",
      "Hip         551\n",
      "Gambrel      22\n",
      "Flat         20\n",
      "Mansard      11\n",
      "Shed          5\n",
      "Name: RoofStyle, dtype: int64\n",
      "\n",
      "\n",
      "CompShg    2876\n",
      "Tar&Grv      23\n",
      "WdShake       9\n",
      "WdShngl       7\n",
      "ClyTile       1\n",
      "Metal         1\n",
      "Membran       1\n",
      "Roll          1\n",
      "Name: RoofMatl, dtype: int64\n",
      "\n",
      "\n",
      "VinylSd    1026\n",
      "MetalSd     450\n",
      "HdBoard     442\n",
      "Wd Sdng     411\n",
      "Plywood     221\n",
      "CemntBd     126\n",
      "BrkFace      87\n",
      "WdShing      56\n",
      "AsbShng      44\n",
      "Stucco       43\n",
      "BrkComm       6\n",
      "AsphShn       2\n",
      "CBlock        2\n",
      "Stone         2\n",
      "ImStucc       1\n",
      "Name: Exterior1st, dtype: int64\n",
      "\n",
      "\n",
      "VinylSd    1015\n",
      "MetalSd     447\n",
      "HdBoard     406\n",
      "Wd Sdng     391\n",
      "Plywood     270\n",
      "CmentBd     126\n",
      "Wd Shng      81\n",
      "Stucco       47\n",
      "BrkFace      47\n",
      "AsbShng      38\n",
      "Brk Cmn      22\n",
      "ImStucc      15\n",
      "Stone         6\n",
      "AsphShn       4\n",
      "CBlock        3\n",
      "Other         1\n",
      "Name: Exterior2nd, dtype: int64\n",
      "\n",
      "\n",
      "None       1766\n",
      "BrkFace     879\n",
      "Stone       249\n",
      "BrkCmn       25\n",
      "Name: MasVnrType, dtype: int64\n",
      "\n",
      "\n",
      "TA    1798\n",
      "Gd     979\n",
      "Ex     107\n",
      "Fa      35\n",
      "Name: ExterQual, dtype: int64\n",
      "\n",
      "\n",
      "TA    2538\n",
      "Gd     299\n",
      "Fa      67\n",
      "Ex      12\n",
      "Po       3\n",
      "Name: ExterCond, dtype: int64\n",
      "\n",
      "\n",
      "PConc     1308\n",
      "CBlock    1235\n",
      "BrkTil     311\n",
      "Slab        49\n",
      "Stone       11\n",
      "Wood         5\n",
      "Name: Foundation, dtype: int64\n",
      "\n",
      "\n",
      "TA    1283\n",
      "Gd    1209\n",
      "Ex     258\n",
      "Fa      88\n",
      "NA      81\n",
      "Name: BsmtQual, dtype: int64\n",
      "\n",
      "\n",
      "TA    2606\n",
      "Gd     122\n",
      "Fa     104\n",
      "NA      82\n",
      "Po       5\n",
      "Name: BsmtCond, dtype: int64\n",
      "\n",
      "\n",
      "No    1904\n",
      "Av     418\n",
      "Gd     276\n",
      "Mn     239\n",
      "NA      82\n",
      "Name: BsmtExposure, dtype: int64\n",
      "\n",
      "\n",
      "Unf    851\n",
      "GLQ    849\n",
      "ALQ    429\n",
      "Rec    288\n",
      "BLQ    269\n",
      "LwQ    154\n",
      "NA      79\n",
      "Name: BsmtFinType1, dtype: int64\n",
      "\n",
      "\n",
      "Unf    2493\n",
      "Rec     105\n",
      "LwQ      87\n",
      "NA       80\n",
      "BLQ      68\n",
      "ALQ      52\n",
      "GLQ      34\n",
      "Name: BsmtFinType2, dtype: int64\n",
      "\n",
      "\n",
      "GasA     2874\n",
      "GasW       27\n",
      "Grav        9\n",
      "Wall        6\n",
      "OthW        2\n",
      "Floor       1\n",
      "Name: Heating, dtype: int64\n",
      "\n",
      "\n",
      "Ex    1493\n",
      "TA     857\n",
      "Gd     474\n",
      "Fa      92\n",
      "Po       3\n",
      "Name: HeatingQC, dtype: int64\n",
      "\n",
      "\n",
      "Y    2723\n",
      "N     196\n",
      "Name: CentralAir, dtype: int64\n",
      "\n",
      "\n",
      "SBrkr    2672\n",
      "FuseA     188\n",
      "FuseF      50\n",
      "FuseP       8\n",
      "Mix         1\n",
      "Name: Electrical, dtype: int64\n",
      "\n",
      "\n",
      "TA    1493\n",
      "Gd    1151\n",
      "Ex     205\n",
      "Fa      70\n",
      "Name: KitchenQual, dtype: int64\n",
      "\n",
      "\n",
      "Typ     2719\n",
      "Min2      70\n",
      "Min1      65\n",
      "Mod       35\n",
      "Maj1      19\n",
      "Maj2       9\n",
      "Sev        2\n",
      "Name: Functional, dtype: int64\n",
      "\n",
      "\n",
      "NA    1420\n",
      "Gd     744\n",
      "TA     592\n",
      "Fa      74\n",
      "Po      46\n",
      "Ex      43\n",
      "Name: FireplaceQu, dtype: int64\n",
      "\n",
      "\n",
      "Attchd     1723\n",
      "Detchd      779\n",
      "BuiltIn     186\n",
      "NA          157\n",
      "Basment      36\n",
      "2Types       23\n",
      "CarPort      15\n",
      "Name: GarageType, dtype: int64\n",
      "\n",
      "\n",
      "Unf    1230\n",
      "RFn     811\n",
      "Fin     719\n",
      "NA      159\n",
      "Name: GarageFinish, dtype: int64\n",
      "\n",
      "\n",
      "TA    2604\n",
      "NA     159\n",
      "Fa     124\n",
      "Gd      24\n",
      "Po       5\n",
      "Ex       3\n",
      "Name: GarageQual, dtype: int64\n",
      "\n",
      "\n",
      "TA    2654\n",
      "NA     159\n",
      "Fa      74\n",
      "Gd      15\n",
      "Po      14\n",
      "Ex       3\n",
      "Name: GarageCond, dtype: int64\n",
      "\n",
      "\n",
      "Y    2641\n",
      "N     216\n",
      "P      62\n",
      "Name: PavedDrive, dtype: int64\n",
      "\n",
      "\n",
      "WD       2526\n",
      "New       239\n",
      "COD        87\n",
      "ConLD      26\n",
      "CWD        12\n",
      "ConLI       9\n",
      "ConLw       8\n",
      "Oth         7\n",
      "Con         5\n",
      "Name: SaleType, dtype: int64\n",
      "\n",
      "\n",
      "Normal     2402\n",
      "Partial     245\n",
      "Abnorml     190\n",
      "Family       46\n",
      "Alloca       24\n",
      "AdjLand      12\n",
      "Name: SaleCondition, dtype: int64\n"
     ]
    }
   ],
   "source": [
    "for i in objs:\n",
    "    print('\\n')\n",
    "    print(df[i].value_counts())"
   ]
  },
  {
   "cell_type": "code",
   "execution_count": 210,
   "metadata": {},
   "outputs": [
    {
     "data": {
      "text/plain": [
       "29"
      ]
     },
     "execution_count": 210,
     "metadata": {},
     "output_type": "execute_result"
    }
   ],
   "source": [
    "drop_cols=['Street','LandContour','Utilities','LandSlope','Condition2','BldgType','RoofStyle','RoofMatl',\n",
    "          'Exterior1st','Exterior2nd','MasVnrType','BsmtExposure','BsmtFinType1','BsmtFinType2','Heating',\n",
    "           'BsmtFinSF1','BsmtFinSF2','BsmtUnfSF','Electrical','Functional','FireplaceQu','GarageFinish','Functional',\n",
    "           'GarageArea','PavedDrive','PoolArea','SaleType','LotShape','HouseStyle']\n",
    "qual=['ExterQual','ExterCond','BsmtQual','BsmtCond','HeatingQC',\n",
    "      'KitchenQual','GarageQual','GarageCond']\n",
    "len(drop_cols)"
   ]
  },
  {
   "cell_type": "code",
   "execution_count": 194,
   "metadata": {},
   "outputs": [],
   "source": [
    "df2=df\n",
    "df2['total_bathroom']=df2['BsmtFullBath']+df2['BsmtHalfBath']*0.5+ \\\n",
    "df2['FullBath']+df2['HalfBath']*0.5\n",
    "df2=df2.drop(['BsmtFullBath','BsmtHalfBath','FullBath','HalfBath'],axis=1)"
   ]
  },
  {
   "cell_type": "code",
   "execution_count": 195,
   "metadata": {},
   "outputs": [],
   "source": [
    "df2['Condition_isnorm']=df2['Condition1'].apply(lambda x:0 if x=='Norm' else 1)\n",
    "df2=df2.drop('Condition1',axis=1)"
   ]
  },
  {
   "cell_type": "code",
   "execution_count": 202,
   "metadata": {},
   "outputs": [],
   "source": [
    "df2[qual]=df[qual]\n",
    "for i in qual:\n",
    "    df2[i]=df2[i].map({'Ex':5,'Gd':4,'TA':3,'Fa':2,'Po':1,'NA':0})"
   ]
  },
  {
   "cell_type": "code",
   "execution_count": 233,
   "metadata": {},
   "outputs": [
    {
     "name": "stdout",
     "output_type": "stream",
     "text": [
      "<class 'pandas.core.frame.DataFrame'>\n",
      "Int64Index: 2919 entries, 0 to 1458\n",
      "Data columns (total 46 columns):\n",
      "Id                     2919 non-null int64\n",
      "MSSubClass             2919 non-null int64\n",
      "MSZoning               2919 non-null object\n",
      "LotFrontage            2919 non-null float64\n",
      "LotArea                2919 non-null int64\n",
      "LotConfig              2919 non-null object\n",
      "Neighborhood           2919 non-null object\n",
      "OverallQual            2919 non-null int64\n",
      "OverallCond            2919 non-null int64\n",
      "YearBuilt              2919 non-null int64\n",
      "YearRemodAdd           2919 non-null int64\n",
      "MasVnrArea             2919 non-null float64\n",
      "ExterQual              2919 non-null int64\n",
      "ExterCond              2919 non-null int64\n",
      "Foundation             2919 non-null object\n",
      "BsmtQual               2919 non-null int64\n",
      "BsmtCond               2919 non-null int64\n",
      "TotalBsmtSF            2919 non-null float64\n",
      "HeatingQC              2919 non-null int64\n",
      "CentralAir             2919 non-null object\n",
      "1stFlrSF               2919 non-null int64\n",
      "2ndFlrSF               2919 non-null int64\n",
      "LowQualFinSF           2919 non-null int64\n",
      "GrLivArea              2919 non-null int64\n",
      "BedroomAbvGr           2919 non-null int64\n",
      "KitchenAbvGr           2919 non-null int64\n",
      "KitchenQual            2919 non-null int64\n",
      "TotRmsAbvGrd           2919 non-null int64\n",
      "Fireplaces             2919 non-null int64\n",
      "GarageType             2919 non-null object\n",
      "GarageYrBlt            2919 non-null float64\n",
      "GarageCars             2919 non-null float64\n",
      "GarageQual             2919 non-null int64\n",
      "GarageCond             2919 non-null int64\n",
      "MiscVal                2919 non-null int64\n",
      "MoSold                 2919 non-null int64\n",
      "YrSold                 2919 non-null int64\n",
      "SaleCondition          2919 non-null object\n",
      "SalePrice              1460 non-null float64\n",
      "PoolQC_present         2919 non-null int32\n",
      "Fence_present          2919 non-null int32\n",
      "MiscFeature_present    2919 non-null int32\n",
      "Alley_present          2919 non-null int32\n",
      "total_bathroom         2919 non-null float64\n",
      "Condition_isnorm       2919 non-null int64\n",
      "total_porchSF          2919 non-null int64\n",
      "dtypes: float64(7), int32(4), int64(28), object(7)\n",
      "memory usage: 1.0+ MB\n"
     ]
    }
   ],
   "source": [
    "df2.info()"
   ]
  },
  {
   "cell_type": "code",
   "execution_count": 211,
   "metadata": {},
   "outputs": [],
   "source": [
    "df2=df2.drop(drop_cols,axis=1)"
   ]
  },
  {
   "cell_type": "code",
   "execution_count": 230,
   "metadata": {},
   "outputs": [],
   "source": [
    "df2['total_porchSF']=0\n",
    "df2['total_porchSF']=df2['OpenPorchSF']+df2['EnclosedPorch']+df2['3SsnPorch']\\\n",
    "+df2['ScreenPorch']+df2['WoodDeckSF']\n",
    "df2=df2.drop(['EnclosedPorch','OpenPorchSF','3SsnPorch','WoodDeckSF','ScreenPorch'],axis=1)"
   ]
  },
  {
   "cell_type": "code",
   "execution_count": null,
   "metadata": {},
   "outputs": [],
   "source": []
  },
  {
   "cell_type": "code",
   "execution_count": 243,
   "metadata": {},
   "outputs": [],
   "source": [
    "drop_num=['LotFrontage','GarageYrBlt','MoSold','MiscFeature_present',\n",
    "          'Alley_present']\n",
    "df2=df2.drop(drop_num,axis=1)"
   ]
  },
  {
   "cell_type": "code",
   "execution_count": 216,
   "metadata": {},
   "outputs": [
    {
     "data": {
      "text/plain": [
       "<matplotlib.axes._subplots.AxesSubplot at 0x20325bb3688>"
      ]
     },
     "execution_count": 216,
     "metadata": {},
     "output_type": "execute_result"
    },
    {
     "data": {
      "image/png": "[encoded data removed]",
      "text/plain": [
       "<Figure size 432x288 with 1 Axes>"
      ]
     },
     "metadata": {
      "needs_background": "light"
     },
     "output_type": "display_data"
    }
   ],
   "source": [
    "sns.scatterplot(data=df2 ,x='LotArea',y='SalePrice')"
   ]
  },
  {
   "cell_type": "code",
   "execution_count": 218,
   "metadata": {},
   "outputs": [
    {
     "data": {
      "text/plain": [
       "<matplotlib.axes._subplots.AxesSubplot at 0x2032bba9288>"
      ]
     },
     "execution_count": 218,
     "metadata": {},
     "output_type": "execute_result"
    },
    {
     "data": {
      "image/png": "[encoded data removed]",
      "text/plain": [
       "<Figure size 432x288 with 1 Axes>"
      ]
     },
     "metadata": {
      "needs_background": "light"
     },
     "output_type": "display_data"
    }
   ],
   "source": [
    "sns.scatterplot(data=df,x='SalePrice',y='total_bathroom')"
   ]
  },
  {
   "cell_type": "code",
   "execution_count": 232,
   "metadata": {},
   "outputs": [
    {
     "data": {
      "text/plain": [
       "<matplotlib.axes._subplots.AxesSubplot at 0x2032d1afe88>"
      ]
     },
     "execution_count": 232,
     "metadata": {},
     "output_type": "execute_result"
    },
    {
     "data": {
      "image/png": "[encoded data removed]",
      "text/plain": [
       "<Figure size 432x288 with 1 Axes>"
      ]
     },
     "metadata": {
      "needs_background": "light"
     },
     "output_type": "display_data"
    }
   ],
   "source": [
    "sns.scatterplot(data=df2,x='SalePrice',y='total_porchSF')"
   ]
  },
  {
   "cell_type": "code",
   "execution_count": 235,
   "metadata": {},
   "outputs": [
    {
     "data": {
      "text/plain": [
       "<matplotlib.axes._subplots.AxesSubplot at 0x2032d24ea48>"
      ]
     },
     "execution_count": 235,
     "metadata": {},
     "output_type": "execute_result"
    },
    {
     "data": {
      "image/png": "[encoded data removed]",
      "text/plain": [
       "<Figure size 432x288 with 1 Axes>"
      ]
     },
     "metadata": {
      "needs_background": "light"
     },
     "output_type": "display_data"
    }
   ],
   "source": [
    "sns.scatterplot(data=df2,x='SalePrice',y='MoSold')"
   ]
  },
  {
   "cell_type": "code",
   "execution_count": 242,
   "metadata": {},
   "outputs": [
    {
     "data": {
      "text/plain": [
       "<matplotlib.axes._subplots.AxesSubplot at 0x20335861dc8>"
      ]
     },
     "execution_count": 242,
     "metadata": {},
     "output_type": "execute_result"
    },
    {
     "data": {
      "image/png": "[encoded data removed]",
      "text/plain": [
       "<Figure size 432x288 with 1 Axes>"
      ]
     },
     "metadata": {
      "needs_background": "light"
     },
     "output_type": "display_data"
    }
   ],
   "source": [
    "sns.boxplot(data=df2,y='SalePrice',x='Fence_present')"
   ]
  },
  {
   "cell_type": "code",
   "execution_count": 244,
   "metadata": {},
   "outputs": [
    {
     "name": "stdout",
     "output_type": "stream",
     "text": [
      "<class 'pandas.core.frame.DataFrame'>\n",
      "Int64Index: 2919 entries, 0 to 1458\n",
      "Data columns (total 41 columns):\n",
      "Id                  2919 non-null int64\n",
      "MSSubClass          2919 non-null int64\n",
      "MSZoning            2919 non-null object\n",
      "LotArea             2919 non-null int64\n",
      "LotConfig           2919 non-null object\n",
      "Neighborhood        2919 non-null object\n",
      "OverallQual         2919 non-null int64\n",
      "OverallCond         2919 non-null int64\n",
      "YearBuilt           2919 non-null int64\n",
      "YearRemodAdd        2919 non-null int64\n",
      "MasVnrArea          2919 non-null float64\n",
      "ExterQual           2919 non-null int64\n",
      "ExterCond           2919 non-null int64\n",
      "Foundation          2919 non-null object\n",
      "BsmtQual            2919 non-null int64\n",
      "BsmtCond            2919 non-null int64\n",
      "TotalBsmtSF         2919 non-null float64\n",
      "HeatingQC           2919 non-null int64\n",
      "CentralAir          2919 non-null object\n",
      "1stFlrSF            2919 non-null int64\n",
      "2ndFlrSF            2919 non-null int64\n",
      "LowQualFinSF        2919 non-null int64\n",
      "GrLivArea           2919 non-null int64\n",
      "BedroomAbvGr        2919 non-null int64\n",
      "KitchenAbvGr        2919 non-null int64\n",
      "KitchenQual         2919 non-null int64\n",
      "TotRmsAbvGrd        2919 non-null int64\n",
      "Fireplaces          2919 non-null int64\n",
      "GarageType          2919 non-null object\n",
      "GarageCars          2919 non-null float64\n",
      "GarageQual          2919 non-null int64\n",
      "GarageCond          2919 non-null int64\n",
      "MiscVal             2919 non-null int64\n",
      "YrSold              2919 non-null int64\n",
      "SaleCondition       2919 non-null object\n",
      "SalePrice           1460 non-null float64\n",
      "PoolQC_present      2919 non-null int32\n",
      "Fence_present       2919 non-null int32\n",
      "total_bathroom      2919 non-null float64\n",
      "Condition_isnorm    2919 non-null int64\n",
      "total_porchSF       2919 non-null int64\n",
      "dtypes: float64(5), int32(2), int64(27), object(7)\n",
      "memory usage: 1015.0+ KB\n"
     ]
    }
   ],
   "source": [
    "df2.info()"
   ]
  },
  {
   "cell_type": "code",
   "execution_count": 270,
   "metadata": {},
   "outputs": [],
   "source": [
    "ob1=[]\n",
    "for i in df2.columns:\n",
    "    if df2[i].dtype=='O':\n",
    "        ob1.append(i)\n",
    "        "
   ]
  },
  {
   "cell_type": "code",
   "execution_count": 271,
   "metadata": {},
   "outputs": [],
   "source": [
    "d=pd.get_dummies(df2,columns=ob1,drop_first=True)"
   ]
  },
  {
   "cell_type": "code",
   "execution_count": 183,
   "metadata": {},
   "outputs": [],
   "source": [
    "df1=pd.get_dummies(df,columns=objs,drop_first=True)"
   ]
  },
  {
   "cell_type": "code",
   "execution_count": 267,
   "metadata": {},
   "outputs": [],
   "source": [
    "train=df1[df1.SalePrice.isnull()==False].copy()\n",
    "t=df1[df1.SalePrice.isnull()==True].copy()\n",
    "test=t.drop(['SalePrice','Id'],axis=1)"
   ]
  },
  {
   "cell_type": "code",
   "execution_count": 264,
   "metadata": {},
   "outputs": [
    {
     "data": {
      "text/plain": [
       "(1460, 252)"
      ]
     },
     "execution_count": 264,
     "metadata": {},
     "output_type": "execute_result"
    }
   ],
   "source": [
    "train.shape"
   ]
  },
  {
   "cell_type": "code",
   "execution_count": 265,
   "metadata": {},
   "outputs": [
    {
     "data": {
      "text/plain": [
       "(1459, 250)"
      ]
     },
     "execution_count": 265,
     "metadata": {},
     "output_type": "execute_result"
    }
   ],
   "source": [
    "test.shape"
   ]
  },
  {
   "cell_type": "code",
   "execution_count": 189,
   "metadata": {},
   "outputs": [],
   "source": [
    "x=train.drop(['SalePrice','Id'],axis=1)\n",
    "y=train['SalePrice']"
   ]
  },
  {
   "cell_type": "code",
   "execution_count": 391,
   "metadata": {},
   "outputs": [],
   "source": [
    "from sklearn.preprocessing import StandardScaler\n",
    "from sklearn.linear_model import LinearRegression,Lasso,Ridge\n",
    "from sklearn.ensemble import RandomForestRegressor\n",
    "from lightgbm import LGBMRegressor\n",
    "from sklearn.metrics import r2_score,mean_squared_error,mean_absolute_error\n",
    "from sklearn.model_selection import train_test_split,RandomizedSearchCV,GridSearchCV\n",
    "from statsmodels.api import OLS,add_constant"
   ]
  },
  {
   "cell_type": "code",
   "execution_count": 191,
   "metadata": {},
   "outputs": [
    {
     "name": "stderr",
     "output_type": "stream",
     "text": [
      "C:\\ProgramData\\Anaconda3\\lib\\site-packages\\numpy\\core\\fromnumeric.py:2389: FutureWarning: Method .ptp is deprecated and will be removed in a future version. Use numpy.ptp instead.\n",
      "  return ptp(axis=axis, out=out, **kwargs)\n"
     ]
    },
    {
     "data": {
      "text/html": [
       "<table class=\"simpletable\">\n",
       "<caption>OLS Regression Results</caption>\n",
       "<tr>\n",
       "  <th>Dep. Variable:</th>        <td>SalePrice</td>    <th>  R-squared (uncentered):</th>      <td>   0.989</td> \n",
       "</tr>\n",
       "<tr>\n",
       "  <th>Model:</th>                   <td>OLS</td>       <th>  Adj. R-squared (uncentered):</th> <td>   0.987</td> \n",
       "</tr>\n",
       "<tr>\n",
       "  <th>Method:</th>             <td>Least Squares</td>  <th>  F-statistic:       </th>          <td>   449.1</td> \n",
       "</tr>\n",
       "<tr>\n",
       "  <th>Date:</th>             <td>Sat, 11 Apr 2020</td> <th>  Prob (F-statistic):</th>           <td>  0.00</td>  \n",
       "</tr>\n",
       "<tr>\n",
       "  <th>Time:</th>                 <td>23:02:28</td>     <th>  Log-Likelihood:    </th>          <td> -16588.</td> \n",
       "</tr>\n",
       "<tr>\n",
       "  <th>No. Observations:</th>      <td>  1460</td>      <th>  AIC:               </th>          <td>3.366e+04</td>\n",
       "</tr>\n",
       "<tr>\n",
       "  <th>Df Residuals:</th>          <td>  1218</td>      <th>  BIC:               </th>          <td>3.494e+04</td>\n",
       "</tr>\n",
       "<tr>\n",
       "  <th>Df Model:</th>              <td>   242</td>      <th>                     </th>              <td> </td>    \n",
       "</tr>\n",
       "<tr>\n",
       "  <th>Covariance Type:</th>      <td>nonrobust</td>    <th>                     </th>              <td> </td>    \n",
       "</tr>\n",
       "</table>\n",
       "<table class=\"simpletable\">\n",
       "<tr>\n",
       "            <td></td>               <th>coef</th>     <th>std err</th>      <th>t</th>      <th>P>|t|</th>  <th>[0.025</th>    <th>0.975]</th>  \n",
       "</tr>\n",
       "<tr>\n",
       "  <th>MSSubClass</th>            <td>  -34.4183</td> <td>   82.926</td> <td>   -0.415</td> <td> 0.678</td> <td> -197.113</td> <td>  128.276</td>\n",
       "</tr>\n",
       "<tr>\n",
       "  <th>LotFrontage</th>           <td>   62.5904</td> <td>   43.978</td> <td>    1.423</td> <td> 0.155</td> <td>  -23.692</td> <td>  148.872</td>\n",
       "</tr>\n",
       "<tr>\n",
       "  <th>LotArea</th>               <td>    0.7238</td> <td>    0.110</td> <td>    6.583</td> <td> 0.000</td> <td>    0.508</td> <td>    0.940</td>\n",
       "</tr>\n",
       "<tr>\n",
       "  <th>OverallQual</th>           <td> 6642.2447</td> <td> 1012.021</td> <td>    6.563</td> <td> 0.000</td> <td> 4656.746</td> <td> 8627.743</td>\n",
       "</tr>\n",
       "<tr>\n",
       "  <th>OverallCond</th>           <td> 5729.0689</td> <td>  876.080</td> <td>    6.539</td> <td> 0.000</td> <td> 4010.275</td> <td> 7447.863</td>\n",
       "</tr>\n",
       "<tr>\n",
       "  <th>YearBuilt</th>             <td>  321.1875</td> <td>   76.267</td> <td>    4.211</td> <td> 0.000</td> <td>  171.558</td> <td>  470.817</td>\n",
       "</tr>\n",
       "<tr>\n",
       "  <th>YearRemodAdd</th>          <td>  103.5712</td> <td>   55.833</td> <td>    1.855</td> <td> 0.064</td> <td>   -5.968</td> <td>  213.110</td>\n",
       "</tr>\n",
       "<tr>\n",
       "  <th>MasVnrArea</th>            <td>   19.0146</td> <td>    5.800</td> <td>    3.279</td> <td> 0.001</td> <td>    7.636</td> <td>   30.393</td>\n",
       "</tr>\n",
       "<tr>\n",
       "  <th>BsmtFinSF1</th>            <td>   16.6119</td> <td>    2.888</td> <td>    5.752</td> <td> 0.000</td> <td>   10.946</td> <td>   22.278</td>\n",
       "</tr>\n",
       "<tr>\n",
       "  <th>BsmtFinSF2</th>            <td>    8.0991</td> <td>    5.995</td> <td>    1.351</td> <td> 0.177</td> <td>   -3.662</td> <td>   19.860</td>\n",
       "</tr>\n",
       "<tr>\n",
       "  <th>BsmtUnfSF</th>             <td>   -1.9300</td> <td>    2.776</td> <td>   -0.695</td> <td> 0.487</td> <td>   -7.376</td> <td>    3.516</td>\n",
       "</tr>\n",
       "<tr>\n",
       "  <th>TotalBsmtSF</th>           <td>   22.7817</td> <td>    4.077</td> <td>    5.588</td> <td> 0.000</td> <td>   14.784</td> <td>   30.780</td>\n",
       "</tr>\n",
       "<tr>\n",
       "  <th>1stFlrSF</th>              <td>   15.1092</td> <td>    6.349</td> <td>    2.380</td> <td> 0.017</td> <td>    2.653</td> <td>   27.566</td>\n",
       "</tr>\n",
       "<tr>\n",
       "  <th>2ndFlrSF</th>              <td>   35.4026</td> <td>    5.446</td> <td>    6.500</td> <td> 0.000</td> <td>   24.717</td> <td>   46.088</td>\n",
       "</tr>\n",
       "<tr>\n",
       "  <th>LowQualFinSF</th>          <td>  -19.1894</td> <td>   13.707</td> <td>   -1.400</td> <td> 0.162</td> <td>  -46.081</td> <td>    7.703</td>\n",
       "</tr>\n",
       "<tr>\n",
       "  <th>GrLivArea</th>             <td>   31.3222</td> <td>    5.552</td> <td>    5.642</td> <td> 0.000</td> <td>   20.430</td> <td>   42.215</td>\n",
       "</tr>\n",
       "<tr>\n",
       "  <th>BsmtFullBath</th>          <td>  974.3116</td> <td> 1984.067</td> <td>    0.491</td> <td> 0.623</td> <td>-2918.257</td> <td> 4866.880</td>\n",
       "</tr>\n",
       "<tr>\n",
       "  <th>BsmtHalfBath</th>          <td> -202.6006</td> <td> 3036.836</td> <td>   -0.067</td> <td> 0.947</td> <td>-6160.611</td> <td> 5755.409</td>\n",
       "</tr>\n",
       "<tr>\n",
       "  <th>FullBath</th>              <td> 3769.2903</td> <td> 2208.583</td> <td>    1.707</td> <td> 0.088</td> <td> -563.758</td> <td> 8102.339</td>\n",
       "</tr>\n",
       "<tr>\n",
       "  <th>HalfBath</th>              <td> 1274.1323</td> <td> 2093.559</td> <td>    0.609</td> <td> 0.543</td> <td>-2833.249</td> <td> 5381.514</td>\n",
       "</tr>\n",
       "<tr>\n",
       "  <th>BedroomAbvGr</th>          <td>-3562.3993</td> <td> 1366.943</td> <td>   -2.606</td> <td> 0.009</td> <td>-6244.224</td> <td> -880.575</td>\n",
       "</tr>\n",
       "<tr>\n",
       "  <th>KitchenAbvGr</th>          <td>-1.318e+04</td> <td> 5699.046</td> <td>   -2.313</td> <td> 0.021</td> <td>-2.44e+04</td> <td>-1999.601</td>\n",
       "</tr>\n",
       "<tr>\n",
       "  <th>TotRmsAbvGrd</th>          <td> 1134.3216</td> <td>  948.419</td> <td>    1.196</td> <td> 0.232</td> <td> -726.394</td> <td> 2995.037</td>\n",
       "</tr>\n",
       "<tr>\n",
       "  <th>Fireplaces</th>            <td> 6429.5393</td> <td> 2560.178</td> <td>    2.511</td> <td> 0.012</td> <td> 1406.690</td> <td> 1.15e+04</td>\n",
       "</tr>\n",
       "<tr>\n",
       "  <th>GarageYrBlt</th>           <td>  -27.1034</td> <td>   61.456</td> <td>   -0.441</td> <td> 0.659</td> <td> -147.674</td> <td>   93.468</td>\n",
       "</tr>\n",
       "<tr>\n",
       "  <th>GarageCars</th>            <td> 3823.7034</td> <td> 2291.400</td> <td>    1.669</td> <td> 0.095</td> <td> -671.825</td> <td> 8319.231</td>\n",
       "</tr>\n",
       "<tr>\n",
       "  <th>GarageArea</th>            <td>   18.3458</td> <td>    7.928</td> <td>    2.314</td> <td> 0.021</td> <td>    2.791</td> <td>   33.900</td>\n",
       "</tr>\n",
       "<tr>\n",
       "  <th>WoodDeckSF</th>            <td>   14.4011</td> <td>    5.901</td> <td>    2.441</td> <td> 0.015</td> <td>    2.825</td> <td>   25.978</td>\n",
       "</tr>\n",
       "<tr>\n",
       "  <th>OpenPorchSF</th>           <td>    1.3356</td> <td>   11.599</td> <td>    0.115</td> <td> 0.908</td> <td>  -21.420</td> <td>   24.091</td>\n",
       "</tr>\n",
       "<tr>\n",
       "  <th>EnclosedPorch</th>         <td>    5.1201</td> <td>   12.495</td> <td>    0.410</td> <td> 0.682</td> <td>  -19.394</td> <td>   29.634</td>\n",
       "</tr>\n",
       "<tr>\n",
       "  <th>3SsnPorch</th>             <td>   32.5526</td> <td>   22.510</td> <td>    1.446</td> <td> 0.148</td> <td>  -11.611</td> <td>   76.716</td>\n",
       "</tr>\n",
       "<tr>\n",
       "  <th>ScreenPorch</th>           <td>   30.0067</td> <td>   12.401</td> <td>    2.420</td> <td> 0.016</td> <td>    5.676</td> <td>   54.337</td>\n",
       "</tr>\n",
       "<tr>\n",
       "  <th>PoolArea</th>              <td>  237.2618</td> <td>  143.774</td> <td>    1.650</td> <td> 0.099</td> <td>  -44.810</td> <td>  519.334</td>\n",
       "</tr>\n",
       "<tr>\n",
       "  <th>MiscVal</th>               <td>   -0.3243</td> <td>    1.565</td> <td>   -0.207</td> <td> 0.836</td> <td>   -3.395</td> <td>    2.746</td>\n",
       "</tr>\n",
       "<tr>\n",
       "  <th>MoSold</th>                <td> -458.5286</td> <td>  243.472</td> <td>   -1.883</td> <td> 0.060</td> <td> -936.199</td> <td>   19.142</td>\n",
       "</tr>\n",
       "<tr>\n",
       "  <th>YrSold</th>                <td> -766.0944</td> <td>   98.458</td> <td>   -7.781</td> <td> 0.000</td> <td> -959.260</td> <td> -572.929</td>\n",
       "</tr>\n",
       "<tr>\n",
       "  <th>PoolQC_present</th>        <td>-9.245e+04</td> <td> 8.57e+04</td> <td>   -1.079</td> <td> 0.281</td> <td>-2.61e+05</td> <td> 7.56e+04</td>\n",
       "</tr>\n",
       "<tr>\n",
       "  <th>Fence_present</th>         <td>-1336.5429</td> <td> 1875.594</td> <td>   -0.713</td> <td> 0.476</td> <td>-5016.296</td> <td> 2343.210</td>\n",
       "</tr>\n",
       "<tr>\n",
       "  <th>MiscFeature_present</th>   <td> 2100.8548</td> <td> 4020.546</td> <td>    0.523</td> <td> 0.601</td> <td>-5787.110</td> <td> 9988.819</td>\n",
       "</tr>\n",
       "<tr>\n",
       "  <th>Alley_present</th>         <td>  383.0407</td> <td> 3332.140</td> <td>    0.115</td> <td> 0.909</td> <td>-6154.330</td> <td> 6920.411</td>\n",
       "</tr>\n",
       "<tr>\n",
       "  <th>MSZoning_FV</th>           <td> 3.335e+04</td> <td>  1.2e+04</td> <td>    2.771</td> <td> 0.006</td> <td> 9734.322</td> <td>  5.7e+04</td>\n",
       "</tr>\n",
       "<tr>\n",
       "  <th>MSZoning_RH</th>           <td> 2.384e+04</td> <td> 1.19e+04</td> <td>    2.002</td> <td> 0.046</td> <td>  475.762</td> <td> 4.72e+04</td>\n",
       "</tr>\n",
       "<tr>\n",
       "  <th>MSZoning_RL</th>           <td> 2.627e+04</td> <td> 1.02e+04</td> <td>    2.575</td> <td> 0.010</td> <td> 6253.811</td> <td> 4.63e+04</td>\n",
       "</tr>\n",
       "<tr>\n",
       "  <th>MSZoning_RM</th>           <td> 2.325e+04</td> <td> 9537.013</td> <td>    2.438</td> <td> 0.015</td> <td> 4540.774</td> <td>  4.2e+04</td>\n",
       "</tr>\n",
       "<tr>\n",
       "  <th>Street_Pave</th>           <td> 3.287e+04</td> <td> 1.22e+04</td> <td>    2.692</td> <td> 0.007</td> <td> 8910.162</td> <td> 5.68e+04</td>\n",
       "</tr>\n",
       "<tr>\n",
       "  <th>LotShape_IR2</th>          <td> 3878.4776</td> <td> 4237.820</td> <td>    0.915</td> <td> 0.360</td> <td>-4435.760</td> <td> 1.22e+04</td>\n",
       "</tr>\n",
       "<tr>\n",
       "  <th>LotShape_IR3</th>          <td> 4653.3012</td> <td> 8914.020</td> <td>    0.522</td> <td> 0.602</td> <td>-1.28e+04</td> <td> 2.21e+04</td>\n",
       "</tr>\n",
       "<tr>\n",
       "  <th>LotShape_Reg</th>          <td> 1725.3938</td> <td> 1609.380</td> <td>    1.072</td> <td> 0.284</td> <td>-1432.070</td> <td> 4882.858</td>\n",
       "</tr>\n",
       "<tr>\n",
       "  <th>LandContour_HLS</th>       <td> 7344.5417</td> <td> 5156.530</td> <td>    1.424</td> <td> 0.155</td> <td>-2772.124</td> <td> 1.75e+04</td>\n",
       "</tr>\n",
       "<tr>\n",
       "  <th>LandContour_Low</th>       <td>-1.123e+04</td> <td> 6422.892</td> <td>   -1.749</td> <td> 0.081</td> <td>-2.38e+04</td> <td> 1367.723</td>\n",
       "</tr>\n",
       "<tr>\n",
       "  <th>LandContour_Lvl</th>       <td> 5249.8109</td> <td> 3726.123</td> <td>    1.409</td> <td> 0.159</td> <td>-2060.520</td> <td> 1.26e+04</td>\n",
       "</tr>\n",
       "<tr>\n",
       "  <th>Utilities_NoSeWa</th>      <td>-3.082e+04</td> <td> 2.65e+04</td> <td>   -1.163</td> <td> 0.245</td> <td>-8.28e+04</td> <td> 2.12e+04</td>\n",
       "</tr>\n",
       "<tr>\n",
       "  <th>LotConfig_CulDSac</th>     <td> 9214.2865</td> <td> 3318.596</td> <td>    2.777</td> <td> 0.006</td> <td> 2703.489</td> <td> 1.57e+04</td>\n",
       "</tr>\n",
       "<tr>\n",
       "  <th>LotConfig_FR2</th>         <td>-7395.3278</td> <td> 4036.768</td> <td>   -1.832</td> <td> 0.067</td> <td>-1.53e+04</td> <td>  524.463</td>\n",
       "</tr>\n",
       "<tr>\n",
       "  <th>LotConfig_FR3</th>         <td>-1.636e+04</td> <td> 1.26e+04</td> <td>   -1.298</td> <td> 0.195</td> <td>-4.11e+04</td> <td> 8376.821</td>\n",
       "</tr>\n",
       "<tr>\n",
       "  <th>LotConfig_Inside</th>      <td>-1206.7946</td> <td> 1794.262</td> <td>   -0.673</td> <td> 0.501</td> <td>-4726.982</td> <td> 2313.393</td>\n",
       "</tr>\n",
       "<tr>\n",
       "  <th>LandSlope_Mod</th>         <td> 7306.9929</td> <td> 3992.838</td> <td>    1.830</td> <td> 0.067</td> <td> -526.610</td> <td> 1.51e+04</td>\n",
       "</tr>\n",
       "<tr>\n",
       "  <th>LandSlope_Sev</th>         <td>-4.299e+04</td> <td> 1.15e+04</td> <td>   -3.745</td> <td> 0.000</td> <td>-6.55e+04</td> <td>-2.05e+04</td>\n",
       "</tr>\n",
       "<tr>\n",
       "  <th>Neighborhood_Blueste</th>  <td>  540.6381</td> <td> 1.91e+04</td> <td>    0.028</td> <td> 0.977</td> <td>-3.69e+04</td> <td>  3.8e+04</td>\n",
       "</tr>\n",
       "<tr>\n",
       "  <th>Neighborhood_BrDale</th>   <td>-1779.9648</td> <td>  1.1e+04</td> <td>   -0.161</td> <td> 0.872</td> <td>-2.34e+04</td> <td> 1.98e+04</td>\n",
       "</tr>\n",
       "<tr>\n",
       "  <th>Neighborhood_BrkSide</th>  <td>-5589.6969</td> <td> 9446.017</td> <td>   -0.592</td> <td> 0.554</td> <td>-2.41e+04</td> <td> 1.29e+04</td>\n",
       "</tr>\n",
       "<tr>\n",
       "  <th>Neighborhood_ClearCr</th>  <td>-1.562e+04</td> <td> 9247.969</td> <td>   -1.689</td> <td> 0.092</td> <td>-3.38e+04</td> <td> 2527.228</td>\n",
       "</tr>\n",
       "<tr>\n",
       "  <th>Neighborhood_CollgCr</th>  <td>-1.057e+04</td> <td> 7292.675</td> <td>   -1.449</td> <td> 0.148</td> <td>-2.49e+04</td> <td> 3739.585</td>\n",
       "</tr>\n",
       "<tr>\n",
       "  <th>Neighborhood_Crawfor</th>  <td> 1.087e+04</td> <td> 8575.862</td> <td>    1.267</td> <td> 0.205</td> <td>-5955.698</td> <td> 2.77e+04</td>\n",
       "</tr>\n",
       "<tr>\n",
       "  <th>Neighborhood_Edwards</th>  <td> -2.13e+04</td> <td> 8028.474</td> <td>   -2.654</td> <td> 0.008</td> <td>-3.71e+04</td> <td>-5553.223</td>\n",
       "</tr>\n",
       "<tr>\n",
       "  <th>Neighborhood_Gilbert</th>  <td>-1.152e+04</td> <td> 7709.784</td> <td>   -1.494</td> <td> 0.135</td> <td>-2.66e+04</td> <td> 3609.414</td>\n",
       "</tr>\n",
       "<tr>\n",
       "  <th>Neighborhood_IDOTRR</th>   <td>-1.143e+04</td> <td> 1.07e+04</td> <td>   -1.064</td> <td> 0.288</td> <td>-3.25e+04</td> <td> 9647.785</td>\n",
       "</tr>\n",
       "<tr>\n",
       "  <th>Neighborhood_MeadowV</th>  <td>-7096.9317</td> <td> 1.12e+04</td> <td>   -0.631</td> <td> 0.528</td> <td>-2.92e+04</td> <td>  1.5e+04</td>\n",
       "</tr>\n",
       "<tr>\n",
       "  <th>Neighborhood_Mitchel</th>  <td>-2.309e+04</td> <td> 8191.451</td> <td>   -2.819</td> <td> 0.005</td> <td>-3.92e+04</td> <td>-7017.284</td>\n",
       "</tr>\n",
       "<tr>\n",
       "  <th>Neighborhood_NAmes</th>    <td>-1.688e+04</td> <td> 7846.567</td> <td>   -2.152</td> <td> 0.032</td> <td>-3.23e+04</td> <td>-1490.263</td>\n",
       "</tr>\n",
       "<tr>\n",
       "  <th>Neighborhood_NPkVill</th>  <td> 1.317e+04</td> <td> 1.41e+04</td> <td>    0.933</td> <td> 0.351</td> <td>-1.45e+04</td> <td> 4.09e+04</td>\n",
       "</tr>\n",
       "<tr>\n",
       "  <th>Neighborhood_NWAmes</th>   <td>-1.835e+04</td> <td> 8036.274</td> <td>   -2.283</td> <td> 0.023</td> <td>-3.41e+04</td> <td>-2579.426</td>\n",
       "</tr>\n",
       "<tr>\n",
       "  <th>Neighborhood_NoRidge</th>  <td> 2.513e+04</td> <td> 8457.730</td> <td>    2.971</td> <td> 0.003</td> <td> 8537.387</td> <td> 4.17e+04</td>\n",
       "</tr>\n",
       "<tr>\n",
       "  <th>Neighborhood_NridgHt</th>  <td> 1.722e+04</td> <td> 7552.557</td> <td>    2.281</td> <td> 0.023</td> <td> 2406.945</td> <td>  3.2e+04</td>\n",
       "</tr>\n",
       "<tr>\n",
       "  <th>Neighborhood_OldTown</th>  <td>-1.531e+04</td> <td> 9686.803</td> <td>   -1.580</td> <td> 0.114</td> <td>-3.43e+04</td> <td> 3699.255</td>\n",
       "</tr>\n",
       "<tr>\n",
       "  <th>Neighborhood_SWISU</th>    <td>-8725.2224</td> <td> 9728.057</td> <td>   -0.897</td> <td> 0.370</td> <td>-2.78e+04</td> <td> 1.04e+04</td>\n",
       "</tr>\n",
       "<tr>\n",
       "  <th>Neighborhood_Sawyer</th>   <td>-1.108e+04</td> <td> 8149.567</td> <td>   -1.360</td> <td> 0.174</td> <td>-2.71e+04</td> <td> 4907.622</td>\n",
       "</tr>\n",
       "<tr>\n",
       "  <th>Neighborhood_SawyerW</th>  <td>-4186.4572</td> <td> 7818.962</td> <td>   -0.535</td> <td> 0.592</td> <td>-1.95e+04</td> <td> 1.12e+04</td>\n",
       "</tr>\n",
       "<tr>\n",
       "  <th>Neighborhood_Somerst</th>  <td>-2659.8453</td> <td> 9050.809</td> <td>   -0.294</td> <td> 0.769</td> <td>-2.04e+04</td> <td> 1.51e+04</td>\n",
       "</tr>\n",
       "<tr>\n",
       "  <th>Neighborhood_StoneBr</th>  <td> 3.769e+04</td> <td> 8338.081</td> <td>    4.521</td> <td> 0.000</td> <td> 2.13e+04</td> <td> 5.41e+04</td>\n",
       "</tr>\n",
       "<tr>\n",
       "  <th>Neighborhood_Timber</th>   <td>-1.024e+04</td> <td> 8144.534</td> <td>   -1.257</td> <td> 0.209</td> <td>-2.62e+04</td> <td> 5739.136</td>\n",
       "</tr>\n",
       "<tr>\n",
       "  <th>Neighborhood_Veenker</th>  <td>  196.0736</td> <td> 1.05e+04</td> <td>    0.019</td> <td> 0.985</td> <td>-2.05e+04</td> <td> 2.09e+04</td>\n",
       "</tr>\n",
       "<tr>\n",
       "  <th>Condition1_Feedr</th>      <td> 5258.4212</td> <td> 5012.903</td> <td>    1.049</td> <td> 0.294</td> <td>-4576.461</td> <td> 1.51e+04</td>\n",
       "</tr>\n",
       "<tr>\n",
       "  <th>Condition1_Norm</th>       <td> 1.436e+04</td> <td> 4179.174</td> <td>    3.437</td> <td> 0.001</td> <td> 6163.547</td> <td> 2.26e+04</td>\n",
       "</tr>\n",
       "<tr>\n",
       "  <th>Condition1_PosA</th>       <td> 6600.3658</td> <td> 1.01e+04</td> <td>    0.657</td> <td> 0.512</td> <td>-1.31e+04</td> <td> 2.63e+04</td>\n",
       "</tr>\n",
       "<tr>\n",
       "  <th>Condition1_PosN</th>       <td> 1.287e+04</td> <td> 7452.547</td> <td>    1.727</td> <td> 0.084</td> <td>-1749.609</td> <td> 2.75e+04</td>\n",
       "</tr>\n",
       "<tr>\n",
       "  <th>Condition1_RRAe</th>       <td>-1.712e+04</td> <td> 9103.318</td> <td>   -1.880</td> <td> 0.060</td> <td> -3.5e+04</td> <td>  744.297</td>\n",
       "</tr>\n",
       "<tr>\n",
       "  <th>Condition1_RRAn</th>       <td> 8684.8519</td> <td> 6880.111</td> <td>    1.262</td> <td> 0.207</td> <td>-4813.331</td> <td> 2.22e+04</td>\n",
       "</tr>\n",
       "<tr>\n",
       "  <th>Condition1_RRNe</th>       <td>-4429.1773</td> <td> 1.76e+04</td> <td>   -0.252</td> <td> 0.801</td> <td>-3.89e+04</td> <td> 3.01e+04</td>\n",
       "</tr>\n",
       "<tr>\n",
       "  <th>Condition1_RRNn</th>       <td> 6354.2535</td> <td> 1.29e+04</td> <td>    0.494</td> <td> 0.621</td> <td>-1.89e+04</td> <td> 3.16e+04</td>\n",
       "</tr>\n",
       "<tr>\n",
       "  <th>Condition2_Feedr</th>      <td>-3735.8409</td> <td> 2.35e+04</td> <td>   -0.159</td> <td> 0.874</td> <td>-4.98e+04</td> <td> 4.23e+04</td>\n",
       "</tr>\n",
       "<tr>\n",
       "  <th>Condition2_Norm</th>       <td>-5129.4354</td> <td> 2.03e+04</td> <td>   -0.252</td> <td> 0.801</td> <td> -4.5e+04</td> <td> 3.48e+04</td>\n",
       "</tr>\n",
       "<tr>\n",
       "  <th>Condition2_PosA</th>       <td> 4.069e+04</td> <td> 3.72e+04</td> <td>    1.094</td> <td> 0.274</td> <td>-3.23e+04</td> <td> 1.14e+05</td>\n",
       "</tr>\n",
       "<tr>\n",
       "  <th>Condition2_PosN</th>       <td>-2.381e+05</td> <td> 2.78e+04</td> <td>   -8.569</td> <td> 0.000</td> <td>-2.93e+05</td> <td>-1.84e+05</td>\n",
       "</tr>\n",
       "<tr>\n",
       "  <th>Condition2_RRAe</th>       <td>-1.244e+05</td> <td> 4.63e+04</td> <td>   -2.688</td> <td> 0.007</td> <td>-2.15e+05</td> <td>-3.36e+04</td>\n",
       "</tr>\n",
       "<tr>\n",
       "  <th>Condition2_RRAn</th>       <td>-1.704e+04</td> <td> 3.16e+04</td> <td>   -0.539</td> <td> 0.590</td> <td>-7.91e+04</td> <td>  4.5e+04</td>\n",
       "</tr>\n",
       "<tr>\n",
       "  <th>Condition2_RRNn</th>       <td> 3733.9249</td> <td> 2.72e+04</td> <td>    0.137</td> <td> 0.891</td> <td>-4.96e+04</td> <td>  5.7e+04</td>\n",
       "</tr>\n",
       "<tr>\n",
       "  <th>BldgType_2fmCon</th>       <td>-4763.9618</td> <td> 1.25e+04</td> <td>   -0.380</td> <td> 0.704</td> <td>-2.94e+04</td> <td> 1.98e+04</td>\n",
       "</tr>\n",
       "<tr>\n",
       "  <th>BldgType_Duplex</th>       <td>-9087.7191</td> <td> 7414.867</td> <td>   -1.226</td> <td> 0.221</td> <td>-2.36e+04</td> <td> 5459.608</td>\n",
       "</tr>\n",
       "<tr>\n",
       "  <th>BldgType_Twnhs</th>        <td>-1.958e+04</td> <td>    1e+04</td> <td>   -1.948</td> <td> 0.052</td> <td>-3.93e+04</td> <td>  135.879</td>\n",
       "</tr>\n",
       "<tr>\n",
       "  <th>BldgType_TwnhsE</th>       <td>-1.607e+04</td> <td> 9053.529</td> <td>   -1.775</td> <td> 0.076</td> <td>-3.38e+04</td> <td> 1696.645</td>\n",
       "</tr>\n",
       "<tr>\n",
       "  <th>HouseStyle_1.5Unf</th>     <td> 1.273e+04</td> <td> 7942.759</td> <td>    1.602</td> <td> 0.109</td> <td>-2856.279</td> <td> 2.83e+04</td>\n",
       "</tr>\n",
       "<tr>\n",
       "  <th>HouseStyle_1Story</th>     <td> 7457.1474</td> <td> 4366.821</td> <td>    1.708</td> <td> 0.088</td> <td>-1110.177</td> <td>  1.6e+04</td>\n",
       "</tr>\n",
       "<tr>\n",
       "  <th>HouseStyle_2.5Fin</th>     <td>-2.398e+04</td> <td> 1.23e+04</td> <td>   -1.942</td> <td> 0.052</td> <td>-4.82e+04</td> <td>  247.589</td>\n",
       "</tr>\n",
       "<tr>\n",
       "  <th>HouseStyle_2.5Unf</th>     <td>-8939.5426</td> <td> 9287.225</td> <td>   -0.963</td> <td> 0.336</td> <td>-2.72e+04</td> <td> 9281.190</td>\n",
       "</tr>\n",
       "<tr>\n",
       "  <th>HouseStyle_2Story</th>     <td>-6135.1872</td> <td> 3511.025</td> <td>   -1.747</td> <td> 0.081</td> <td> -1.3e+04</td> <td>  753.140</td>\n",
       "</tr>\n",
       "<tr>\n",
       "  <th>HouseStyle_SFoyer</th>     <td> 1945.4537</td> <td> 6286.935</td> <td>    0.309</td> <td> 0.757</td> <td>-1.04e+04</td> <td> 1.43e+04</td>\n",
       "</tr>\n",
       "<tr>\n",
       "  <th>HouseStyle_SLvl</th>       <td> 3611.7760</td> <td> 5537.316</td> <td>    0.652</td> <td> 0.514</td> <td>-7251.959</td> <td> 1.45e+04</td>\n",
       "</tr>\n",
       "<tr>\n",
       "  <th>RoofStyle_Gable</th>       <td> 7863.0176</td> <td> 1.85e+04</td> <td>    0.424</td> <td> 0.671</td> <td>-2.85e+04</td> <td> 4.42e+04</td>\n",
       "</tr>\n",
       "<tr>\n",
       "  <th>RoofStyle_Gambrel</th>     <td> 1.124e+04</td> <td> 2.02e+04</td> <td>    0.555</td> <td> 0.579</td> <td>-2.85e+04</td> <td>  5.1e+04</td>\n",
       "</tr>\n",
       "<tr>\n",
       "  <th>RoofStyle_Hip</th>         <td> 7734.4162</td> <td> 1.86e+04</td> <td>    0.416</td> <td> 0.677</td> <td>-2.87e+04</td> <td> 4.42e+04</td>\n",
       "</tr>\n",
       "<tr>\n",
       "  <th>RoofStyle_Mansard</th>     <td> 1.909e+04</td> <td> 2.15e+04</td> <td>    0.888</td> <td> 0.375</td> <td>-2.31e+04</td> <td> 6.13e+04</td>\n",
       "</tr>\n",
       "<tr>\n",
       "  <th>RoofStyle_Shed</th>        <td> 1.004e+05</td> <td> 3.48e+04</td> <td>    2.888</td> <td> 0.004</td> <td> 3.22e+04</td> <td> 1.69e+05</td>\n",
       "</tr>\n",
       "<tr>\n",
       "  <th>RoofMatl_CompShg</th>      <td>  6.67e+05</td> <td> 3.66e+04</td> <td>   18.243</td> <td> 0.000</td> <td> 5.95e+05</td> <td> 7.39e+05</td>\n",
       "</tr>\n",
       "<tr>\n",
       "  <th>RoofMatl_Membran</th>      <td> 7.602e+05</td> <td> 4.97e+04</td> <td>   15.287</td> <td> 0.000</td> <td> 6.63e+05</td> <td> 8.58e+05</td>\n",
       "</tr>\n",
       "<tr>\n",
       "  <th>RoofMatl_Metal</th>        <td>  7.31e+05</td> <td> 4.88e+04</td> <td>   14.971</td> <td> 0.000</td> <td> 6.35e+05</td> <td> 8.27e+05</td>\n",
       "</tr>\n",
       "<tr>\n",
       "  <th>RoofMatl_Roll</th>         <td> 6.534e+05</td> <td> 4.45e+04</td> <td>   14.676</td> <td> 0.000</td> <td> 5.66e+05</td> <td> 7.41e+05</td>\n",
       "</tr>\n",
       "<tr>\n",
       "  <th>RoofMatl_Tar&Grv</th>      <td> 6.703e+05</td> <td> 4.14e+04</td> <td>   16.180</td> <td> 0.000</td> <td> 5.89e+05</td> <td> 7.52e+05</td>\n",
       "</tr>\n",
       "<tr>\n",
       "  <th>RoofMatl_WdShake</th>      <td> 6.588e+05</td> <td> 3.98e+04</td> <td>   16.564</td> <td> 0.000</td> <td> 5.81e+05</td> <td> 7.37e+05</td>\n",
       "</tr>\n",
       "<tr>\n",
       "  <th>RoofMatl_WdShngl</th>      <td> 7.197e+05</td> <td> 3.78e+04</td> <td>   19.050</td> <td> 0.000</td> <td> 6.46e+05</td> <td> 7.94e+05</td>\n",
       "</tr>\n",
       "<tr>\n",
       "  <th>Exterior1st_AsphShn</th>   <td>-2.554e+04</td> <td> 3.31e+04</td> <td>   -0.770</td> <td> 0.441</td> <td>-9.06e+04</td> <td> 3.95e+04</td>\n",
       "</tr>\n",
       "<tr>\n",
       "  <th>Exterior1st_BrkComm</th>   <td>-1.112e+04</td> <td> 2.79e+04</td> <td>   -0.399</td> <td> 0.690</td> <td>-6.58e+04</td> <td> 4.35e+04</td>\n",
       "</tr>\n",
       "<tr>\n",
       "  <th>Exterior1st_BrkFace</th>   <td> 4971.7213</td> <td> 1.28e+04</td> <td>    0.389</td> <td> 0.698</td> <td>-2.01e+04</td> <td> 3.01e+04</td>\n",
       "</tr>\n",
       "<tr>\n",
       "  <th>Exterior1st_CBlock</th>    <td>-1.004e+04</td> <td> 1.37e+04</td> <td>   -0.733</td> <td> 0.463</td> <td>-3.69e+04</td> <td> 1.68e+04</td>\n",
       "</tr>\n",
       "<tr>\n",
       "  <th>Exterior1st_CemntBd</th>   <td>-1.375e+04</td> <td> 1.91e+04</td> <td>   -0.718</td> <td> 0.473</td> <td>-5.13e+04</td> <td> 2.38e+04</td>\n",
       "</tr>\n",
       "<tr>\n",
       "  <th>Exterior1st_HdBoard</th>   <td>-1.612e+04</td> <td>  1.3e+04</td> <td>   -1.240</td> <td> 0.215</td> <td>-4.16e+04</td> <td> 9393.985</td>\n",
       "</tr>\n",
       "<tr>\n",
       "  <th>Exterior1st_ImStucc</th>   <td>-4.449e+04</td> <td> 2.79e+04</td> <td>   -1.593</td> <td> 0.111</td> <td>-9.93e+04</td> <td> 1.03e+04</td>\n",
       "</tr>\n",
       "<tr>\n",
       "  <th>Exterior1st_MetalSd</th>   <td>-7409.2164</td> <td> 1.47e+04</td> <td>   -0.505</td> <td> 0.613</td> <td>-3.62e+04</td> <td> 2.14e+04</td>\n",
       "</tr>\n",
       "<tr>\n",
       "  <th>Exterior1st_Plywood</th>   <td>-1.743e+04</td> <td> 1.28e+04</td> <td>   -1.359</td> <td> 0.174</td> <td>-4.26e+04</td> <td> 7734.875</td>\n",
       "</tr>\n",
       "<tr>\n",
       "  <th>Exterior1st_Stone</th>     <td>-6070.9366</td> <td> 2.44e+04</td> <td>   -0.248</td> <td> 0.804</td> <td> -5.4e+04</td> <td> 4.19e+04</td>\n",
       "</tr>\n",
       "<tr>\n",
       "  <th>Exterior1st_Stucco</th>    <td>-7797.1358</td> <td> 1.42e+04</td> <td>   -0.551</td> <td> 0.582</td> <td>-3.56e+04</td> <td>    2e+04</td>\n",
       "</tr>\n",
       "<tr>\n",
       "  <th>Exterior1st_VinylSd</th>   <td>-1.692e+04</td> <td> 1.33e+04</td> <td>   -1.268</td> <td> 0.205</td> <td>-4.31e+04</td> <td> 9253.418</td>\n",
       "</tr>\n",
       "<tr>\n",
       "  <th>Exterior1st_Wd Sdng</th>   <td>-1.604e+04</td> <td> 1.24e+04</td> <td>   -1.291</td> <td> 0.197</td> <td>-4.04e+04</td> <td> 8343.490</td>\n",
       "</tr>\n",
       "<tr>\n",
       "  <th>Exterior1st_WdShing</th>   <td>-1.166e+04</td> <td> 1.34e+04</td> <td>   -0.870</td> <td> 0.385</td> <td> -3.8e+04</td> <td> 1.47e+04</td>\n",
       "</tr>\n",
       "<tr>\n",
       "  <th>Exterior2nd_AsphShn</th>   <td> 1.146e+04</td> <td> 2.23e+04</td> <td>    0.514</td> <td> 0.608</td> <td>-3.23e+04</td> <td> 5.52e+04</td>\n",
       "</tr>\n",
       "<tr>\n",
       "  <th>Exterior2nd_Brk Cmn</th>   <td> 9321.3953</td> <td> 2.02e+04</td> <td>    0.461</td> <td> 0.645</td> <td>-3.03e+04</td> <td>  4.9e+04</td>\n",
       "</tr>\n",
       "<tr>\n",
       "  <th>Exterior2nd_BrkFace</th>   <td> 5381.0199</td> <td> 1.33e+04</td> <td>    0.405</td> <td> 0.685</td> <td>-2.07e+04</td> <td> 3.14e+04</td>\n",
       "</tr>\n",
       "<tr>\n",
       "  <th>Exterior2nd_CBlock</th>    <td>-1.004e+04</td> <td> 1.37e+04</td> <td>   -0.733</td> <td> 0.463</td> <td>-3.69e+04</td> <td> 1.68e+04</td>\n",
       "</tr>\n",
       "<tr>\n",
       "  <th>Exterior2nd_CmentBd</th>   <td> 1.299e+04</td> <td> 1.88e+04</td> <td>    0.691</td> <td> 0.490</td> <td>-2.39e+04</td> <td> 4.99e+04</td>\n",
       "</tr>\n",
       "<tr>\n",
       "  <th>Exterior2nd_HdBoard</th>   <td> 1.045e+04</td> <td> 1.25e+04</td> <td>    0.837</td> <td> 0.403</td> <td>-1.41e+04</td> <td>  3.5e+04</td>\n",
       "</tr>\n",
       "<tr>\n",
       "  <th>Exterior2nd_ImStucc</th>   <td> 2.839e+04</td> <td> 1.43e+04</td> <td>    1.987</td> <td> 0.047</td> <td>  354.188</td> <td> 5.64e+04</td>\n",
       "</tr>\n",
       "<tr>\n",
       "  <th>Exterior2nd_MetalSd</th>   <td> 6051.5843</td> <td> 1.43e+04</td> <td>    0.424</td> <td> 0.672</td> <td> -2.2e+04</td> <td> 3.41e+04</td>\n",
       "</tr>\n",
       "<tr>\n",
       "  <th>Exterior2nd_Other</th>     <td>-1.399e+04</td> <td> 2.72e+04</td> <td>   -0.513</td> <td> 0.608</td> <td>-6.74e+04</td> <td> 3.95e+04</td>\n",
       "</tr>\n",
       "<tr>\n",
       "  <th>Exterior2nd_Plywood</th>   <td> 8500.2317</td> <td> 1.21e+04</td> <td>    0.701</td> <td> 0.484</td> <td>-1.53e+04</td> <td> 3.23e+04</td>\n",
       "</tr>\n",
       "<tr>\n",
       "  <th>Exterior2nd_Stone</th>     <td>-1.094e+04</td> <td> 1.72e+04</td> <td>   -0.635</td> <td> 0.525</td> <td>-4.47e+04</td> <td> 2.28e+04</td>\n",
       "</tr>\n",
       "<tr>\n",
       "  <th>Exterior2nd_Stucco</th>    <td> 8131.8208</td> <td> 1.37e+04</td> <td>    0.595</td> <td> 0.552</td> <td>-1.87e+04</td> <td> 3.49e+04</td>\n",
       "</tr>\n",
       "<tr>\n",
       "  <th>Exterior2nd_VinylSd</th>   <td> 1.483e+04</td> <td> 1.29e+04</td> <td>    1.152</td> <td> 0.250</td> <td>-1.04e+04</td> <td> 4.01e+04</td>\n",
       "</tr>\n",
       "<tr>\n",
       "  <th>Exterior2nd_Wd Sdng</th>   <td> 1.263e+04</td> <td>  1.2e+04</td> <td>    1.051</td> <td> 0.293</td> <td>-1.09e+04</td> <td> 3.62e+04</td>\n",
       "</tr>\n",
       "<tr>\n",
       "  <th>Exterior2nd_Wd Shng</th>   <td> 7068.6770</td> <td> 1.25e+04</td> <td>    0.565</td> <td> 0.572</td> <td>-1.75e+04</td> <td> 3.16e+04</td>\n",
       "</tr>\n",
       "<tr>\n",
       "  <th>MasVnrType_BrkFace</th>    <td> 5735.0795</td> <td> 6826.450</td> <td>    0.840</td> <td> 0.401</td> <td>-7657.826</td> <td> 1.91e+04</td>\n",
       "</tr>\n",
       "<tr>\n",
       "  <th>MasVnrType_None</th>       <td> 8954.9993</td> <td> 6892.837</td> <td>    1.299</td> <td> 0.194</td> <td>-4568.152</td> <td> 2.25e+04</td>\n",
       "</tr>\n",
       "<tr>\n",
       "  <th>MasVnrType_Stone</th>      <td> 1.136e+04</td> <td> 7221.913</td> <td>    1.573</td> <td> 0.116</td> <td>-2806.180</td> <td> 2.55e+04</td>\n",
       "</tr>\n",
       "<tr>\n",
       "  <th>ExterQual_Fa</th>          <td>-6083.9155</td> <td>  1.1e+04</td> <td>   -0.552</td> <td> 0.581</td> <td>-2.77e+04</td> <td> 1.55e+04</td>\n",
       "</tr>\n",
       "<tr>\n",
       "  <th>ExterQual_Gd</th>          <td>-2.019e+04</td> <td> 4796.523</td> <td>   -4.210</td> <td> 0.000</td> <td>-2.96e+04</td> <td>-1.08e+04</td>\n",
       "</tr>\n",
       "<tr>\n",
       "  <th>ExterQual_TA</th>          <td>-2.041e+04</td> <td> 5315.424</td> <td>   -3.839</td> <td> 0.000</td> <td>-3.08e+04</td> <td>-9978.984</td>\n",
       "</tr>\n",
       "<tr>\n",
       "  <th>ExterCond_Fa</th>          <td>-3918.2918</td> <td> 1.82e+04</td> <td>   -0.216</td> <td> 0.829</td> <td>-3.96e+04</td> <td> 3.17e+04</td>\n",
       "</tr>\n",
       "<tr>\n",
       "  <th>ExterCond_Gd</th>          <td>-7993.7371</td> <td> 1.74e+04</td> <td>   -0.461</td> <td> 0.645</td> <td> -4.2e+04</td> <td> 2.61e+04</td>\n",
       "</tr>\n",
       "<tr>\n",
       "  <th>ExterCond_Po</th>          <td> 4671.3930</td> <td> 3.16e+04</td> <td>    0.148</td> <td> 0.883</td> <td>-5.74e+04</td> <td> 6.68e+04</td>\n",
       "</tr>\n",
       "<tr>\n",
       "  <th>ExterCond_TA</th>          <td>-5518.3999</td> <td> 1.73e+04</td> <td>   -0.319</td> <td> 0.750</td> <td>-3.95e+04</td> <td> 2.85e+04</td>\n",
       "</tr>\n",
       "<tr>\n",
       "  <th>Foundation_CBlock</th>     <td> 2819.9847</td> <td> 3189.574</td> <td>    0.884</td> <td> 0.377</td> <td>-3437.683</td> <td> 9077.652</td>\n",
       "</tr>\n",
       "<tr>\n",
       "  <th>Foundation_PConc</th>      <td> 4236.8368</td> <td> 3436.839</td> <td>    1.233</td> <td> 0.218</td> <td>-2505.944</td> <td>  1.1e+04</td>\n",
       "</tr>\n",
       "<tr>\n",
       "  <th>Foundation_Slab</th>       <td>-8415.1592</td> <td> 1.01e+04</td> <td>   -0.834</td> <td> 0.404</td> <td>-2.82e+04</td> <td> 1.14e+04</td>\n",
       "</tr>\n",
       "<tr>\n",
       "  <th>Foundation_Stone</th>      <td> 8161.0154</td> <td> 1.11e+04</td> <td>    0.738</td> <td> 0.461</td> <td>-1.35e+04</td> <td> 2.99e+04</td>\n",
       "</tr>\n",
       "<tr>\n",
       "  <th>Foundation_Wood</th>       <td>-2.985e+04</td> <td> 1.48e+04</td> <td>   -2.011</td> <td> 0.045</td> <td> -5.9e+04</td> <td> -722.121</td>\n",
       "</tr>\n",
       "<tr>\n",
       "  <th>BsmtQual_Fa</th>           <td>-1.277e+04</td> <td> 6346.751</td> <td>   -2.013</td> <td> 0.044</td> <td>-2.52e+04</td> <td> -321.123</td>\n",
       "</tr>\n",
       "<tr>\n",
       "  <th>BsmtQual_Gd</th>           <td>-1.859e+04</td> <td> 3352.273</td> <td>   -5.544</td> <td> 0.000</td> <td>-2.52e+04</td> <td> -1.2e+04</td>\n",
       "</tr>\n",
       "<tr>\n",
       "  <th>BsmtQual_NA</th>           <td> 1.198e+04</td> <td> 1.23e+04</td> <td>    0.976</td> <td> 0.329</td> <td>-1.21e+04</td> <td> 3.61e+04</td>\n",
       "</tr>\n",
       "<tr>\n",
       "  <th>BsmtQual_TA</th>           <td>-1.544e+04</td> <td> 4150.238</td> <td>   -3.721</td> <td> 0.000</td> <td>-2.36e+04</td> <td>-7299.718</td>\n",
       "</tr>\n",
       "<tr>\n",
       "  <th>BsmtCond_Gd</th>           <td> -400.8116</td> <td> 5288.290</td> <td>   -0.076</td> <td> 0.940</td> <td>-1.08e+04</td> <td> 9974.356</td>\n",
       "</tr>\n",
       "<tr>\n",
       "  <th>BsmtCond_NA</th>           <td> 1.198e+04</td> <td> 1.23e+04</td> <td>    0.976</td> <td> 0.329</td> <td>-1.21e+04</td> <td> 3.61e+04</td>\n",
       "</tr>\n",
       "<tr>\n",
       "  <th>BsmtCond_Po</th>           <td> 7.191e+04</td> <td> 2.99e+04</td> <td>    2.401</td> <td> 0.016</td> <td> 1.32e+04</td> <td> 1.31e+05</td>\n",
       "</tr>\n",
       "<tr>\n",
       "  <th>BsmtCond_TA</th>           <td> 2988.5212</td> <td> 4257.256</td> <td>    0.702</td> <td> 0.483</td> <td>-5363.848</td> <td> 1.13e+04</td>\n",
       "</tr>\n",
       "<tr>\n",
       "  <th>BsmtExposure_Gd</th>       <td> 1.298e+04</td> <td> 3003.773</td> <td>    4.322</td> <td> 0.000</td> <td> 7090.145</td> <td> 1.89e+04</td>\n",
       "</tr>\n",
       "<tr>\n",
       "  <th>BsmtExposure_Mn</th>       <td>-4421.3001</td> <td> 3035.385</td> <td>   -1.457</td> <td> 0.145</td> <td>-1.04e+04</td> <td> 1533.862</td>\n",
       "</tr>\n",
       "<tr>\n",
       "  <th>BsmtExposure_NA</th>       <td>-1.106e+04</td> <td> 2.32e+04</td> <td>   -0.478</td> <td> 0.633</td> <td>-5.65e+04</td> <td> 3.44e+04</td>\n",
       "</tr>\n",
       "<tr>\n",
       "  <th>BsmtExposure_No</th>       <td>-5613.9492</td> <td> 2186.841</td> <td>   -2.567</td> <td> 0.010</td> <td>-9904.343</td> <td>-1323.556</td>\n",
       "</tr>\n",
       "<tr>\n",
       "  <th>BsmtFinType1_BLQ</th>      <td> 2339.8963</td> <td> 2803.345</td> <td>    0.835</td> <td> 0.404</td> <td>-3160.025</td> <td> 7839.817</td>\n",
       "</tr>\n",
       "<tr>\n",
       "  <th>BsmtFinType1_GLQ</th>      <td> 5750.5124</td> <td> 2515.641</td> <td>    2.286</td> <td> 0.022</td> <td>  815.043</td> <td> 1.07e+04</td>\n",
       "</tr>\n",
       "<tr>\n",
       "  <th>BsmtFinType1_LwQ</th>      <td>-3506.7507</td> <td> 3757.276</td> <td>   -0.933</td> <td> 0.351</td> <td>-1.09e+04</td> <td> 3864.699</td>\n",
       "</tr>\n",
       "<tr>\n",
       "  <th>BsmtFinType1_NA</th>       <td> 1.198e+04</td> <td> 1.23e+04</td> <td>    0.976</td> <td> 0.329</td> <td>-1.21e+04</td> <td> 3.61e+04</td>\n",
       "</tr>\n",
       "<tr>\n",
       "  <th>BsmtFinType1_Rec</th>      <td> -315.0164</td> <td> 2997.296</td> <td>   -0.105</td> <td> 0.916</td> <td>-6195.452</td> <td> 5565.419</td>\n",
       "</tr>\n",
       "<tr>\n",
       "  <th>BsmtFinType1_Unf</th>      <td> 3043.7384</td> <td> 2919.627</td> <td>    1.043</td> <td> 0.297</td> <td>-2684.317</td> <td> 8771.794</td>\n",
       "</tr>\n",
       "<tr>\n",
       "  <th>BsmtFinType2_BLQ</th>      <td>-1.367e+04</td> <td> 7600.880</td> <td>   -1.798</td> <td> 0.072</td> <td>-2.86e+04</td> <td> 1246.385</td>\n",
       "</tr>\n",
       "<tr>\n",
       "  <th>BsmtFinType2_GLQ</th>      <td>-3231.4936</td> <td> 9384.043</td> <td>   -0.344</td> <td> 0.731</td> <td>-2.16e+04</td> <td> 1.52e+04</td>\n",
       "</tr>\n",
       "<tr>\n",
       "  <th>BsmtFinType2_LwQ</th>      <td>-1.556e+04</td> <td> 7422.610</td> <td>   -2.097</td> <td> 0.036</td> <td>-3.01e+04</td> <td> -999.281</td>\n",
       "</tr>\n",
       "<tr>\n",
       "  <th>BsmtFinType2_NA</th>       <td>-2.873e+04</td> <td> 2.51e+04</td> <td>   -1.143</td> <td> 0.253</td> <td>-7.81e+04</td> <td> 2.06e+04</td>\n",
       "</tr>\n",
       "<tr>\n",
       "  <th>BsmtFinType2_Rec</th>      <td>-1.096e+04</td> <td> 7146.529</td> <td>   -1.533</td> <td> 0.126</td> <td> -2.5e+04</td> <td> 3065.472</td>\n",
       "</tr>\n",
       "<tr>\n",
       "  <th>BsmtFinType2_Unf</th>      <td>-9557.6724</td> <td> 7606.911</td> <td>   -1.256</td> <td> 0.209</td> <td>-2.45e+04</td> <td> 5366.430</td>\n",
       "</tr>\n",
       "<tr>\n",
       "  <th>Heating_GasA</th>          <td>  1.12e+04</td> <td> 2.57e+04</td> <td>    0.436</td> <td> 0.663</td> <td>-3.93e+04</td> <td> 6.17e+04</td>\n",
       "</tr>\n",
       "<tr>\n",
       "  <th>Heating_GasW</th>          <td> 7622.4513</td> <td> 2.65e+04</td> <td>    0.288</td> <td> 0.774</td> <td>-4.44e+04</td> <td> 5.96e+04</td>\n",
       "</tr>\n",
       "<tr>\n",
       "  <th>Heating_Grav</th>          <td> 5429.0532</td> <td> 2.82e+04</td> <td>    0.193</td> <td> 0.847</td> <td>-4.99e+04</td> <td> 6.07e+04</td>\n",
       "</tr>\n",
       "<tr>\n",
       "  <th>Heating_OthW</th>          <td>-1.152e+04</td> <td> 3.16e+04</td> <td>   -0.364</td> <td> 0.716</td> <td>-7.36e+04</td> <td> 5.05e+04</td>\n",
       "</tr>\n",
       "<tr>\n",
       "  <th>Heating_Wall</th>          <td> 2.565e+04</td> <td> 2.99e+04</td> <td>    0.859</td> <td> 0.391</td> <td>-3.29e+04</td> <td> 8.42e+04</td>\n",
       "</tr>\n",
       "<tr>\n",
       "  <th>HeatingQC_Fa</th>          <td>  333.8108</td> <td> 4694.715</td> <td>    0.071</td> <td> 0.943</td> <td>-8876.815</td> <td> 9544.436</td>\n",
       "</tr>\n",
       "<tr>\n",
       "  <th>HeatingQC_Gd</th>          <td>-3507.9957</td> <td> 2062.836</td> <td>   -1.701</td> <td> 0.089</td> <td>-7555.102</td> <td>  539.111</td>\n",
       "</tr>\n",
       "<tr>\n",
       "  <th>HeatingQC_Po</th>          <td> 3258.1752</td> <td> 2.67e+04</td> <td>    0.122</td> <td> 0.903</td> <td>-4.92e+04</td> <td> 5.57e+04</td>\n",
       "</tr>\n",
       "<tr>\n",
       "  <th>HeatingQC_TA</th>          <td>-3379.8250</td> <td> 2077.530</td> <td>   -1.627</td> <td> 0.104</td> <td>-7455.759</td> <td>  696.109</td>\n",
       "</tr>\n",
       "<tr>\n",
       "  <th>CentralAir_Y</th>          <td>  199.9144</td> <td> 3889.754</td> <td>    0.051</td> <td> 0.959</td> <td>-7431.448</td> <td> 7831.276</td>\n",
       "</tr>\n",
       "<tr>\n",
       "  <th>Electrical_FuseF</th>      <td> -548.7313</td> <td> 5776.682</td> <td>   -0.095</td> <td> 0.924</td> <td>-1.19e+04</td> <td> 1.08e+04</td>\n",
       "</tr>\n",
       "<tr>\n",
       "  <th>Electrical_FuseP</th>      <td>-8784.0872</td> <td> 1.86e+04</td> <td>   -0.472</td> <td> 0.637</td> <td>-4.53e+04</td> <td> 2.78e+04</td>\n",
       "</tr>\n",
       "<tr>\n",
       "  <th>Electrical_Mix</th>        <td>-4.774e+04</td> <td> 4.47e+04</td> <td>   -1.068</td> <td> 0.286</td> <td>-1.35e+05</td> <td> 3.99e+04</td>\n",
       "</tr>\n",
       "<tr>\n",
       "  <th>Electrical_SBrkr</th>      <td>-1225.5760</td> <td> 2960.055</td> <td>   -0.414</td> <td> 0.679</td> <td>-7032.948</td> <td> 4581.796</td>\n",
       "</tr>\n",
       "<tr>\n",
       "  <th>KitchenQual_Fa</th>        <td>-1.967e+04</td> <td> 6227.721</td> <td>   -3.158</td> <td> 0.002</td> <td>-3.19e+04</td> <td>-7448.388</td>\n",
       "</tr>\n",
       "<tr>\n",
       "  <th>KitchenQual_Gd</th>        <td>-2.423e+04</td> <td> 3498.908</td> <td>   -6.924</td> <td> 0.000</td> <td>-3.11e+04</td> <td>-1.74e+04</td>\n",
       "</tr>\n",
       "<tr>\n",
       "  <th>KitchenQual_TA</th>        <td>-2.208e+04</td> <td> 3941.153</td> <td>   -5.604</td> <td> 0.000</td> <td>-2.98e+04</td> <td>-1.44e+04</td>\n",
       "</tr>\n",
       "<tr>\n",
       "  <th>Functional_Maj2</th>       <td> -688.4352</td> <td> 1.44e+04</td> <td>   -0.048</td> <td> 0.962</td> <td> -2.9e+04</td> <td> 2.76e+04</td>\n",
       "</tr>\n",
       "<tr>\n",
       "  <th>Functional_Min1</th>       <td> 1.037e+04</td> <td> 8624.621</td> <td>    1.203</td> <td> 0.229</td> <td>-6545.813</td> <td> 2.73e+04</td>\n",
       "</tr>\n",
       "<tr>\n",
       "  <th>Functional_Min2</th>       <td> 1.172e+04</td> <td> 8620.559</td> <td>    1.360</td> <td> 0.174</td> <td>-5188.420</td> <td> 2.86e+04</td>\n",
       "</tr>\n",
       "<tr>\n",
       "  <th>Functional_Mod</th>        <td> -343.0797</td> <td> 1.04e+04</td> <td>   -0.033</td> <td> 0.974</td> <td>-2.08e+04</td> <td> 2.01e+04</td>\n",
       "</tr>\n",
       "<tr>\n",
       "  <th>Functional_Sev</th>        <td>  -4.2e+04</td> <td> 2.96e+04</td> <td>   -1.419</td> <td> 0.156</td> <td>   -1e+05</td> <td> 1.61e+04</td>\n",
       "</tr>\n",
       "<tr>\n",
       "  <th>Functional_Typ</th>        <td>  2.12e+04</td> <td> 7466.320</td> <td>    2.839</td> <td> 0.005</td> <td> 6547.854</td> <td> 3.58e+04</td>\n",
       "</tr>\n",
       "<tr>\n",
       "  <th>FireplaceQu_Fa</th>        <td>-2794.2868</td> <td> 6902.200</td> <td>   -0.405</td> <td> 0.686</td> <td>-1.63e+04</td> <td> 1.07e+04</td>\n",
       "</tr>\n",
       "<tr>\n",
       "  <th>FireplaceQu_Gd</th>        <td> 1425.6066</td> <td> 5342.850</td> <td>    0.267</td> <td> 0.790</td> <td>-9056.604</td> <td> 1.19e+04</td>\n",
       "</tr>\n",
       "<tr>\n",
       "  <th>FireplaceQu_NA</th>        <td> 7760.8393</td> <td> 6252.593</td> <td>    1.241</td> <td> 0.215</td> <td>-4506.208</td> <td>    2e+04</td>\n",
       "</tr>\n",
       "<tr>\n",
       "  <th>FireplaceQu_Po</th>        <td> 9051.9532</td> <td> 7866.004</td> <td>    1.151</td> <td> 0.250</td> <td>-6380.468</td> <td> 2.45e+04</td>\n",
       "</tr>\n",
       "<tr>\n",
       "  <th>FireplaceQu_TA</th>        <td> 2428.1083</td> <td> 5558.114</td> <td>    0.437</td> <td> 0.662</td> <td>-8476.431</td> <td> 1.33e+04</td>\n",
       "</tr>\n",
       "<tr>\n",
       "  <th>GarageType_Attchd</th>     <td> 1.969e+04</td> <td>  1.1e+04</td> <td>    1.793</td> <td> 0.073</td> <td>-1860.546</td> <td> 4.12e+04</td>\n",
       "</tr>\n",
       "<tr>\n",
       "  <th>GarageType_Basment</th>    <td> 2.311e+04</td> <td> 1.27e+04</td> <td>    1.814</td> <td> 0.070</td> <td>-1885.008</td> <td> 4.81e+04</td>\n",
       "</tr>\n",
       "<tr>\n",
       "  <th>GarageType_BuiltIn</th>    <td> 1.899e+04</td> <td> 1.14e+04</td> <td>    1.662</td> <td> 0.097</td> <td>-3431.483</td> <td> 4.14e+04</td>\n",
       "</tr>\n",
       "<tr>\n",
       "  <th>GarageType_CarPort</th>    <td> 2.489e+04</td> <td> 1.47e+04</td> <td>    1.695</td> <td> 0.090</td> <td>-3917.664</td> <td> 5.37e+04</td>\n",
       "</tr>\n",
       "<tr>\n",
       "  <th>GarageType_Detchd</th>     <td> 2.306e+04</td> <td>  1.1e+04</td> <td>    2.098</td> <td> 0.036</td> <td> 1492.789</td> <td> 4.46e+04</td>\n",
       "</tr>\n",
       "<tr>\n",
       "  <th>GarageType_NA</th>         <td>-7276.6399</td> <td> 3.06e+04</td> <td>   -0.238</td> <td> 0.812</td> <td>-6.73e+04</td> <td> 5.27e+04</td>\n",
       "</tr>\n",
       "<tr>\n",
       "  <th>GarageFinish_NA</th>       <td>-7276.6399</td> <td> 3.06e+04</td> <td>   -0.238</td> <td> 0.812</td> <td>-6.73e+04</td> <td> 5.27e+04</td>\n",
       "</tr>\n",
       "<tr>\n",
       "  <th>GarageFinish_RFn</th>      <td>-2735.7471</td> <td> 1967.159</td> <td>   -1.391</td> <td> 0.165</td> <td>-6595.144</td> <td> 1123.650</td>\n",
       "</tr>\n",
       "<tr>\n",
       "  <th>GarageFinish_Unf</th>      <td> -155.2805</td> <td> 2422.129</td> <td>   -0.064</td> <td> 0.949</td> <td>-4907.289</td> <td> 4596.728</td>\n",
       "</tr>\n",
       "<tr>\n",
       "  <th>GarageQual_Fa</th>         <td>-1.162e+05</td> <td> 3.02e+04</td> <td>   -3.841</td> <td> 0.000</td> <td>-1.75e+05</td> <td>-5.68e+04</td>\n",
       "</tr>\n",
       "<tr>\n",
       "  <th>GarageQual_Gd</th>         <td>-1.093e+05</td> <td>  3.1e+04</td> <td>   -3.523</td> <td> 0.000</td> <td> -1.7e+05</td> <td>-4.84e+04</td>\n",
       "</tr>\n",
       "<tr>\n",
       "  <th>GarageQual_NA</th>         <td>-7276.6399</td> <td> 3.06e+04</td> <td>   -0.238</td> <td> 0.812</td> <td>-6.73e+04</td> <td> 5.27e+04</td>\n",
       "</tr>\n",
       "<tr>\n",
       "  <th>GarageQual_Po</th>         <td> -1.33e+05</td> <td> 3.86e+04</td> <td>   -3.446</td> <td> 0.001</td> <td>-2.09e+05</td> <td>-5.73e+04</td>\n",
       "</tr>\n",
       "<tr>\n",
       "  <th>GarageQual_TA</th>         <td>  -1.1e+05</td> <td> 2.99e+04</td> <td>   -3.675</td> <td> 0.000</td> <td>-1.69e+05</td> <td>-5.13e+04</td>\n",
       "</tr>\n",
       "<tr>\n",
       "  <th>GarageCond_Fa</th>         <td> 1.045e+05</td> <td> 3.49e+04</td> <td>    2.992</td> <td> 0.003</td> <td>  3.6e+04</td> <td> 1.73e+05</td>\n",
       "</tr>\n",
       "<tr>\n",
       "  <th>GarageCond_Gd</th>         <td> 1.026e+05</td> <td> 3.61e+04</td> <td>    2.838</td> <td> 0.005</td> <td> 3.17e+04</td> <td> 1.73e+05</td>\n",
       "</tr>\n",
       "<tr>\n",
       "  <th>GarageCond_NA</th>         <td>-7276.6399</td> <td> 3.06e+04</td> <td>   -0.238</td> <td> 0.812</td> <td>-6.73e+04</td> <td> 5.27e+04</td>\n",
       "</tr>\n",
       "<tr>\n",
       "  <th>GarageCond_Po</th>         <td> 1.101e+05</td> <td> 3.75e+04</td> <td>    2.934</td> <td> 0.003</td> <td> 3.65e+04</td> <td> 1.84e+05</td>\n",
       "</tr>\n",
       "<tr>\n",
       "  <th>GarageCond_TA</th>         <td> 1.057e+05</td> <td> 3.46e+04</td> <td>    3.054</td> <td> 0.002</td> <td> 3.78e+04</td> <td> 1.74e+05</td>\n",
       "</tr>\n",
       "<tr>\n",
       "  <th>PavedDrive_P</th>          <td>-2918.3681</td> <td> 5557.046</td> <td>   -0.525</td> <td> 0.600</td> <td>-1.38e+04</td> <td> 7984.075</td>\n",
       "</tr>\n",
       "<tr>\n",
       "  <th>PavedDrive_Y</th>          <td>   38.7624</td> <td> 3473.419</td> <td>    0.011</td> <td> 0.991</td> <td>-6775.786</td> <td> 6853.311</td>\n",
       "</tr>\n",
       "<tr>\n",
       "  <th>SaleType_CWD</th>          <td> 1.515e+04</td> <td> 1.29e+04</td> <td>    1.174</td> <td> 0.241</td> <td>-1.02e+04</td> <td> 4.05e+04</td>\n",
       "</tr>\n",
       "<tr>\n",
       "  <th>SaleType_Con</th>          <td> 2.685e+04</td> <td> 1.76e+04</td> <td>    1.521</td> <td> 0.128</td> <td>-7778.848</td> <td> 6.15e+04</td>\n",
       "</tr>\n",
       "<tr>\n",
       "  <th>SaleType_ConLD</th>        <td> 1.596e+04</td> <td> 9720.763</td> <td>    1.642</td> <td> 0.101</td> <td>-3109.070</td> <td>  3.5e+04</td>\n",
       "</tr>\n",
       "<tr>\n",
       "  <th>SaleType_ConLI</th>        <td> 4338.3994</td> <td> 1.16e+04</td> <td>    0.374</td> <td> 0.708</td> <td>-1.84e+04</td> <td> 2.71e+04</td>\n",
       "</tr>\n",
       "<tr>\n",
       "  <th>SaleType_ConLw</th>        <td>  926.8630</td> <td> 1.22e+04</td> <td>    0.076</td> <td> 0.940</td> <td>-2.31e+04</td> <td> 2.49e+04</td>\n",
       "</tr>\n",
       "<tr>\n",
       "  <th>SaleType_New</th>          <td>  2.16e+04</td> <td> 1.55e+04</td> <td>    1.393</td> <td> 0.164</td> <td>-8825.745</td> <td>  5.2e+04</td>\n",
       "</tr>\n",
       "<tr>\n",
       "  <th>SaleType_Oth</th>          <td> 7480.4365</td> <td> 1.45e+04</td> <td>    0.516</td> <td> 0.606</td> <td> -2.1e+04</td> <td> 3.59e+04</td>\n",
       "</tr>\n",
       "<tr>\n",
       "  <th>SaleType_WD</th>           <td>   95.7483</td> <td> 4194.122</td> <td>    0.023</td> <td> 0.982</td> <td>-8132.757</td> <td> 8324.254</td>\n",
       "</tr>\n",
       "<tr>\n",
       "  <th>SaleCondition_AdjLand</th> <td> 7618.8311</td> <td> 1.47e+04</td> <td>    0.520</td> <td> 0.603</td> <td>-2.11e+04</td> <td> 3.64e+04</td>\n",
       "</tr>\n",
       "<tr>\n",
       "  <th>SaleCondition_Alloca</th>  <td> 3531.8568</td> <td> 8810.310</td> <td>    0.401</td> <td> 0.689</td> <td>-1.38e+04</td> <td> 2.08e+04</td>\n",
       "</tr>\n",
       "<tr>\n",
       "  <th>SaleCondition_Family</th>  <td> -943.1651</td> <td> 6113.224</td> <td>   -0.154</td> <td> 0.877</td> <td>-1.29e+04</td> <td> 1.11e+04</td>\n",
       "</tr>\n",
       "<tr>\n",
       "  <th>SaleCondition_Normal</th>  <td> 5293.2227</td> <td> 2903.101</td> <td>    1.823</td> <td> 0.069</td> <td> -402.410</td> <td>  1.1e+04</td>\n",
       "</tr>\n",
       "<tr>\n",
       "  <th>SaleCondition_Partial</th> <td>-1647.1454</td> <td> 1.49e+04</td> <td>   -0.110</td> <td> 0.912</td> <td> -3.1e+04</td> <td> 2.77e+04</td>\n",
       "</tr>\n",
       "</table>\n",
       "<table class=\"simpletable\">\n",
       "<tr>\n",
       "  <th>Omnibus:</th>       <td>445.386</td> <th>  Durbin-Watson:     </th> <td>   1.920</td> \n",
       "</tr>\n",
       "<tr>\n",
       "  <th>Prob(Omnibus):</th> <td> 0.000</td>  <th>  Jarque-Bera (JB):  </th> <td>16088.123</td>\n",
       "</tr>\n",
       "<tr>\n",
       "  <th>Skew:</th>          <td> 0.726</td>  <th>  Prob(JB):          </th> <td>    0.00</td> \n",
       "</tr>\n",
       "<tr>\n",
       "  <th>Kurtosis:</th>      <td>19.197</td>  <th>  Cond. No.          </th> <td>9.00e+16</td> \n",
       "</tr>\n",
       "</table><br/><br/>Warnings:<br/>[1] Standard Errors assume that the covariance matrix of the errors is correctly specified.<br/>[2] The smallest eigenvalue is  4e-23. This might indicate that there are<br/>strong multicollinearity problems or that the design matrix is singular."
      ],
      "text/plain": [
       "<class 'statsmodels.iolib.summary.Summary'>\n",
       "\"\"\"\n",
       "                                 OLS Regression Results                                \n",
       "=======================================================================================\n",
       "Dep. Variable:              SalePrice   R-squared (uncentered):                   0.989\n",
       "Model:                            OLS   Adj. R-squared (uncentered):              0.987\n",
       "Method:                 Least Squares   F-statistic:                              449.1\n",
       "Date:                Sat, 11 Apr 2020   Prob (F-statistic):                        0.00\n",
       "Time:                        23:02:28   Log-Likelihood:                         -16588.\n",
       "No. Observations:                1460   AIC:                                  3.366e+04\n",
       "Df Residuals:                    1218   BIC:                                  3.494e+04\n",
       "Df Model:                         242                                                  \n",
       "Covariance Type:            nonrobust                                                  \n",
       "=========================================================================================\n",
       "                            coef    std err          t      P>|t|      [0.025      0.975]\n",
       "-----------------------------------------------------------------------------------------\n",
       "MSSubClass              -34.4183     82.926     -0.415      0.678    -197.113     128.276\n",
       "LotFrontage              62.5904     43.978      1.423      0.155     -23.692     148.872\n",
       "LotArea                   0.7238      0.110      6.583      0.000       0.508       0.940\n",
       "OverallQual            6642.2447   1012.021      6.563      0.000    4656.746    8627.743\n",
       "OverallCond            5729.0689    876.080      6.539      0.000    4010.275    7447.863\n",
       "YearBuilt               321.1875     76.267      4.211      0.000     171.558     470.817\n",
       "YearRemodAdd            103.5712     55.833      1.855      0.064      -5.968     213.110\n",
       "MasVnrArea               19.0146      5.800      3.279      0.001       7.636      30.393\n",
       "BsmtFinSF1               16.6119      2.888      5.752      0.000      10.946      22.278\n",
       "BsmtFinSF2                8.0991      5.995      1.351      0.177      -3.662      19.860\n",
       "BsmtUnfSF                -1.9300      2.776     -0.695      0.487      -7.376       3.516\n",
       "TotalBsmtSF              22.7817      4.077      5.588      0.000      14.784      30.780\n",
       "1stFlrSF                 15.1092      6.349      2.380      0.017       2.653      27.566\n",
       "2ndFlrSF                 35.4026      5.446      6.500      0.000      24.717      46.088\n",
       "LowQualFinSF            -19.1894     13.707     -1.400      0.162     -46.081       7.703\n",
       "GrLivArea                31.3222      5.552      5.642      0.000      20.430      42.215\n",
       "BsmtFullBath            974.3116   1984.067      0.491      0.623   -2918.257    4866.880\n",
       "BsmtHalfBath           -202.6006   3036.836     -0.067      0.947   -6160.611    5755.409\n",
       "FullBath               3769.2903   2208.583      1.707      0.088    -563.758    8102.339\n",
       "HalfBath               1274.1323   2093.559      0.609      0.543   -2833.249    5381.514\n",
       "BedroomAbvGr          -3562.3993   1366.943     -2.606      0.009   -6244.224    -880.575\n",
       "KitchenAbvGr          -1.318e+04   5699.046     -2.313      0.021   -2.44e+04   -1999.601\n",
       "TotRmsAbvGrd           1134.3216    948.419      1.196      0.232    -726.394    2995.037\n",
       "Fireplaces             6429.5393   2560.178      2.511      0.012    1406.690    1.15e+04\n",
       "GarageYrBlt             -27.1034     61.456     -0.441      0.659    -147.674      93.468\n",
       "GarageCars             3823.7034   2291.400      1.669      0.095    -671.825    8319.231\n",
       "GarageArea               18.3458      7.928      2.314      0.021       2.791      33.900\n",
       "WoodDeckSF               14.4011      5.901      2.441      0.015       2.825      25.978\n",
       "OpenPorchSF               1.3356     11.599      0.115      0.908     -21.420      24.091\n",
       "EnclosedPorch             5.1201     12.495      0.410      0.682     -19.394      29.634\n",
       "3SsnPorch                32.5526     22.510      1.446      0.148     -11.611      76.716\n",
       "ScreenPorch              30.0067     12.401      2.420      0.016       5.676      54.337\n",
       "PoolArea                237.2618    143.774      1.650      0.099     -44.810     519.334\n",
       "MiscVal                  -0.3243      1.565     -0.207      0.836      -3.395       2.746\n",
       "MoSold                 -458.5286    243.472     -1.883      0.060    -936.199      19.142\n",
       "YrSold                 -766.0944     98.458     -7.781      0.000    -959.260    -572.929\n",
       "PoolQC_present        -9.245e+04   8.57e+04     -1.079      0.281   -2.61e+05    7.56e+04\n",
       "Fence_present         -1336.5429   1875.594     -0.713      0.476   -5016.296    2343.210\n",
       "MiscFeature_present    2100.8548   4020.546      0.523      0.601   -5787.110    9988.819\n",
       "Alley_present           383.0407   3332.140      0.115      0.909   -6154.330    6920.411\n",
       "MSZoning_FV            3.335e+04    1.2e+04      2.771      0.006    9734.322     5.7e+04\n",
       "MSZoning_RH            2.384e+04   1.19e+04      2.002      0.046     475.762    4.72e+04\n",
       "MSZoning_RL            2.627e+04   1.02e+04      2.575      0.010    6253.811    4.63e+04\n",
       "MSZoning_RM            2.325e+04   9537.013      2.438      0.015    4540.774     4.2e+04\n",
       "Street_Pave            3.287e+04   1.22e+04      2.692      0.007    8910.162    5.68e+04\n",
       "LotShape_IR2           3878.4776   4237.820      0.915      0.360   -4435.760    1.22e+04\n",
       "LotShape_IR3           4653.3012   8914.020      0.522      0.602   -1.28e+04    2.21e+04\n",
       "LotShape_Reg           1725.3938   1609.380      1.072      0.284   -1432.070    4882.858\n",
       "LandContour_HLS        7344.5417   5156.530      1.424      0.155   -2772.124    1.75e+04\n",
       "LandContour_Low       -1.123e+04   6422.892     -1.749      0.081   -2.38e+04    1367.723\n",
       "LandContour_Lvl        5249.8109   3726.123      1.409      0.159   -2060.520    1.26e+04\n",
       "Utilities_NoSeWa      -3.082e+04   2.65e+04     -1.163      0.245   -8.28e+04    2.12e+04\n",
       "LotConfig_CulDSac      9214.2865   3318.596      2.777      0.006    2703.489    1.57e+04\n",
       "LotConfig_FR2         -7395.3278   4036.768     -1.832      0.067   -1.53e+04     524.463\n",
       "LotConfig_FR3         -1.636e+04   1.26e+04     -1.298      0.195   -4.11e+04    8376.821\n",
       "LotConfig_Inside      -1206.7946   1794.262     -0.673      0.501   -4726.982    2313.393\n",
       "LandSlope_Mod          7306.9929   3992.838      1.830      0.067    -526.610    1.51e+04\n",
       "LandSlope_Sev         -4.299e+04   1.15e+04     -3.745      0.000   -6.55e+04   -2.05e+04\n",
       "Neighborhood_Blueste    540.6381   1.91e+04      0.028      0.977   -3.69e+04     3.8e+04\n",
       "Neighborhood_BrDale   -1779.9648    1.1e+04     -0.161      0.872   -2.34e+04    1.98e+04\n",
       "Neighborhood_BrkSide  -5589.6969   9446.017     -0.592      0.554   -2.41e+04    1.29e+04\n",
       "Neighborhood_ClearCr  -1.562e+04   9247.969     -1.689      0.092   -3.38e+04    2527.228\n",
       "Neighborhood_CollgCr  -1.057e+04   7292.675     -1.449      0.148   -2.49e+04    3739.585\n",
       "Neighborhood_Crawfor   1.087e+04   8575.862      1.267      0.205   -5955.698    2.77e+04\n",
       "Neighborhood_Edwards   -2.13e+04   8028.474     -2.654      0.008   -3.71e+04   -5553.223\n",
       "Neighborhood_Gilbert  -1.152e+04   7709.784     -1.494      0.135   -2.66e+04    3609.414\n",
       "Neighborhood_IDOTRR   -1.143e+04   1.07e+04     -1.064      0.288   -3.25e+04    9647.785\n",
       "Neighborhood_MeadowV  -7096.9317   1.12e+04     -0.631      0.528   -2.92e+04     1.5e+04\n",
       "Neighborhood_Mitchel  -2.309e+04   8191.451     -2.819      0.005   -3.92e+04   -7017.284\n",
       "Neighborhood_NAmes    -1.688e+04   7846.567     -2.152      0.032   -3.23e+04   -1490.263\n",
       "Neighborhood_NPkVill   1.317e+04   1.41e+04      0.933      0.351   -1.45e+04    4.09e+04\n",
       "Neighborhood_NWAmes   -1.835e+04   8036.274     -2.283      0.023   -3.41e+04   -2579.426\n",
       "Neighborhood_NoRidge   2.513e+04   8457.730      2.971      0.003    8537.387    4.17e+04\n",
       "Neighborhood_NridgHt   1.722e+04   7552.557      2.281      0.023    2406.945     3.2e+04\n",
       "Neighborhood_OldTown  -1.531e+04   9686.803     -1.580      0.114   -3.43e+04    3699.255\n",
       "Neighborhood_SWISU    -8725.2224   9728.057     -0.897      0.370   -2.78e+04    1.04e+04\n",
       "Neighborhood_Sawyer   -1.108e+04   8149.567     -1.360      0.174   -2.71e+04    4907.622\n",
       "Neighborhood_SawyerW  -4186.4572   7818.962     -0.535      0.592   -1.95e+04    1.12e+04\n",
       "Neighborhood_Somerst  -2659.8453   9050.809     -0.294      0.769   -2.04e+04    1.51e+04\n",
       "Neighborhood_StoneBr   3.769e+04   8338.081      4.521      0.000    2.13e+04    5.41e+04\n",
       "Neighborhood_Timber   -1.024e+04   8144.534     -1.257      0.209   -2.62e+04    5739.136\n",
       "Neighborhood_Veenker    196.0736   1.05e+04      0.019      0.985   -2.05e+04    2.09e+04\n",
       "Condition1_Feedr       5258.4212   5012.903      1.049      0.294   -4576.461    1.51e+04\n",
       "Condition1_Norm        1.436e+04   4179.174      3.437      0.001    6163.547    2.26e+04\n",
       "Condition1_PosA        6600.3658   1.01e+04      0.657      0.512   -1.31e+04    2.63e+04\n",
       "Condition1_PosN        1.287e+04   7452.547      1.727      0.084   -1749.609    2.75e+04\n",
       "Condition1_RRAe       -1.712e+04   9103.318     -1.880      0.060    -3.5e+04     744.297\n",
       "Condition1_RRAn        8684.8519   6880.111      1.262      0.207   -4813.331    2.22e+04\n",
       "Condition1_RRNe       -4429.1773   1.76e+04     -0.252      0.801   -3.89e+04    3.01e+04\n",
       "Condition1_RRNn        6354.2535   1.29e+04      0.494      0.621   -1.89e+04    3.16e+04\n",
       "Condition2_Feedr      -3735.8409   2.35e+04     -0.159      0.874   -4.98e+04    4.23e+04\n",
       "Condition2_Norm       -5129.4354   2.03e+04     -0.252      0.801    -4.5e+04    3.48e+04\n",
       "Condition2_PosA        4.069e+04   3.72e+04      1.094      0.274   -3.23e+04    1.14e+05\n",
       "Condition2_PosN       -2.381e+05   2.78e+04     -8.569      0.000   -2.93e+05   -1.84e+05\n",
       "Condition2_RRAe       -1.244e+05   4.63e+04     -2.688      0.007   -2.15e+05   -3.36e+04\n",
       "Condition2_RRAn       -1.704e+04   3.16e+04     -0.539      0.590   -7.91e+04     4.5e+04\n",
       "Condition2_RRNn        3733.9249   2.72e+04      0.137      0.891   -4.96e+04     5.7e+04\n",
       "BldgType_2fmCon       -4763.9618   1.25e+04     -0.380      0.704   -2.94e+04    1.98e+04\n",
       "BldgType_Duplex       -9087.7191   7414.867     -1.226      0.221   -2.36e+04    5459.608\n",
       "BldgType_Twnhs        -1.958e+04      1e+04     -1.948      0.052   -3.93e+04     135.879\n",
       "BldgType_TwnhsE       -1.607e+04   9053.529     -1.775      0.076   -3.38e+04    1696.645\n",
       "HouseStyle_1.5Unf      1.273e+04   7942.759      1.602      0.109   -2856.279    2.83e+04\n",
       "HouseStyle_1Story      7457.1474   4366.821      1.708      0.088   -1110.177     1.6e+04\n",
       "HouseStyle_2.5Fin     -2.398e+04   1.23e+04     -1.942      0.052   -4.82e+04     247.589\n",
       "HouseStyle_2.5Unf     -8939.5426   9287.225     -0.963      0.336   -2.72e+04    9281.190\n",
       "HouseStyle_2Story     -6135.1872   3511.025     -1.747      0.081    -1.3e+04     753.140\n",
       "HouseStyle_SFoyer      1945.4537   6286.935      0.309      0.757   -1.04e+04    1.43e+04\n",
       "HouseStyle_SLvl        3611.7760   5537.316      0.652      0.514   -7251.959    1.45e+04\n",
       "RoofStyle_Gable        7863.0176   1.85e+04      0.424      0.671   -2.85e+04    4.42e+04\n",
       "RoofStyle_Gambrel      1.124e+04   2.02e+04      0.555      0.579   -2.85e+04     5.1e+04\n",
       "RoofStyle_Hip          7734.4162   1.86e+04      0.416      0.677   -2.87e+04    4.42e+04\n",
       "RoofStyle_Mansard      1.909e+04   2.15e+04      0.888      0.375   -2.31e+04    6.13e+04\n",
       "RoofStyle_Shed         1.004e+05   3.48e+04      2.888      0.004    3.22e+04    1.69e+05\n",
       "RoofMatl_CompShg        6.67e+05   3.66e+04     18.243      0.000    5.95e+05    7.39e+05\n",
       "RoofMatl_Membran       7.602e+05   4.97e+04     15.287      0.000    6.63e+05    8.58e+05\n",
       "RoofMatl_Metal          7.31e+05   4.88e+04     14.971      0.000    6.35e+05    8.27e+05\n",
       "RoofMatl_Roll          6.534e+05   4.45e+04     14.676      0.000    5.66e+05    7.41e+05\n",
       "RoofMatl_Tar&Grv       6.703e+05   4.14e+04     16.180      0.000    5.89e+05    7.52e+05\n",
       "RoofMatl_WdShake       6.588e+05   3.98e+04     16.564      0.000    5.81e+05    7.37e+05\n",
       "RoofMatl_WdShngl       7.197e+05   3.78e+04     19.050      0.000    6.46e+05    7.94e+05\n",
       "Exterior1st_AsphShn   -2.554e+04   3.31e+04     -0.770      0.441   -9.06e+04    3.95e+04\n",
       "Exterior1st_BrkComm   -1.112e+04   2.79e+04     -0.399      0.690   -6.58e+04    4.35e+04\n",
       "Exterior1st_BrkFace    4971.7213   1.28e+04      0.389      0.698   -2.01e+04    3.01e+04\n",
       "Exterior1st_CBlock    -1.004e+04   1.37e+04     -0.733      0.463   -3.69e+04    1.68e+04\n",
       "Exterior1st_CemntBd   -1.375e+04   1.91e+04     -0.718      0.473   -5.13e+04    2.38e+04\n",
       "Exterior1st_HdBoard   -1.612e+04    1.3e+04     -1.240      0.215   -4.16e+04    9393.985\n",
       "Exterior1st_ImStucc   -4.449e+04   2.79e+04     -1.593      0.111   -9.93e+04    1.03e+04\n",
       "Exterior1st_MetalSd   -7409.2164   1.47e+04     -0.505      0.613   -3.62e+04    2.14e+04\n",
       "Exterior1st_Plywood   -1.743e+04   1.28e+04     -1.359      0.174   -4.26e+04    7734.875\n",
       "Exterior1st_Stone     -6070.9366   2.44e+04     -0.248      0.804    -5.4e+04    4.19e+04\n",
       "Exterior1st_Stucco    -7797.1358   1.42e+04     -0.551      0.582   -3.56e+04       2e+04\n",
       "Exterior1st_VinylSd   -1.692e+04   1.33e+04     -1.268      0.205   -4.31e+04    9253.418\n",
       "Exterior1st_Wd Sdng   -1.604e+04   1.24e+04     -1.291      0.197   -4.04e+04    8343.490\n",
       "Exterior1st_WdShing   -1.166e+04   1.34e+04     -0.870      0.385    -3.8e+04    1.47e+04\n",
       "Exterior2nd_AsphShn    1.146e+04   2.23e+04      0.514      0.608   -3.23e+04    5.52e+04\n",
       "Exterior2nd_Brk Cmn    9321.3953   2.02e+04      0.461      0.645   -3.03e+04     4.9e+04\n",
       "Exterior2nd_BrkFace    5381.0199   1.33e+04      0.405      0.685   -2.07e+04    3.14e+04\n",
       "Exterior2nd_CBlock    -1.004e+04   1.37e+04     -0.733      0.463   -3.69e+04    1.68e+04\n",
       "Exterior2nd_CmentBd    1.299e+04   1.88e+04      0.691      0.490   -2.39e+04    4.99e+04\n",
       "Exterior2nd_HdBoard    1.045e+04   1.25e+04      0.837      0.403   -1.41e+04     3.5e+04\n",
       "Exterior2nd_ImStucc    2.839e+04   1.43e+04      1.987      0.047     354.188    5.64e+04\n",
       "Exterior2nd_MetalSd    6051.5843   1.43e+04      0.424      0.672    -2.2e+04    3.41e+04\n",
       "Exterior2nd_Other     -1.399e+04   2.72e+04     -0.513      0.608   -6.74e+04    3.95e+04\n",
       "Exterior2nd_Plywood    8500.2317   1.21e+04      0.701      0.484   -1.53e+04    3.23e+04\n",
       "Exterior2nd_Stone     -1.094e+04   1.72e+04     -0.635      0.525   -4.47e+04    2.28e+04\n",
       "Exterior2nd_Stucco     8131.8208   1.37e+04      0.595      0.552   -1.87e+04    3.49e+04\n",
       "Exterior2nd_VinylSd    1.483e+04   1.29e+04      1.152      0.250   -1.04e+04    4.01e+04\n",
       "Exterior2nd_Wd Sdng    1.263e+04    1.2e+04      1.051      0.293   -1.09e+04    3.62e+04\n",
       "Exterior2nd_Wd Shng    7068.6770   1.25e+04      0.565      0.572   -1.75e+04    3.16e+04\n",
       "MasVnrType_BrkFace     5735.0795   6826.450      0.840      0.401   -7657.826    1.91e+04\n",
       "MasVnrType_None        8954.9993   6892.837      1.299      0.194   -4568.152    2.25e+04\n",
       "MasVnrType_Stone       1.136e+04   7221.913      1.573      0.116   -2806.180    2.55e+04\n",
       "ExterQual_Fa          -6083.9155    1.1e+04     -0.552      0.581   -2.77e+04    1.55e+04\n",
       "ExterQual_Gd          -2.019e+04   4796.523     -4.210      0.000   -2.96e+04   -1.08e+04\n",
       "ExterQual_TA          -2.041e+04   5315.424     -3.839      0.000   -3.08e+04   -9978.984\n",
       "ExterCond_Fa          -3918.2918   1.82e+04     -0.216      0.829   -3.96e+04    3.17e+04\n",
       "ExterCond_Gd          -7993.7371   1.74e+04     -0.461      0.645    -4.2e+04    2.61e+04\n",
       "ExterCond_Po           4671.3930   3.16e+04      0.148      0.883   -5.74e+04    6.68e+04\n",
       "ExterCond_TA          -5518.3999   1.73e+04     -0.319      0.750   -3.95e+04    2.85e+04\n",
       "Foundation_CBlock      2819.9847   3189.574      0.884      0.377   -3437.683    9077.652\n",
       "Foundation_PConc       4236.8368   3436.839      1.233      0.218   -2505.944     1.1e+04\n",
       "Foundation_Slab       -8415.1592   1.01e+04     -0.834      0.404   -2.82e+04    1.14e+04\n",
       "Foundation_Stone       8161.0154   1.11e+04      0.738      0.461   -1.35e+04    2.99e+04\n",
       "Foundation_Wood       -2.985e+04   1.48e+04     -2.011      0.045    -5.9e+04    -722.121\n",
       "BsmtQual_Fa           -1.277e+04   6346.751     -2.013      0.044   -2.52e+04    -321.123\n",
       "BsmtQual_Gd           -1.859e+04   3352.273     -5.544      0.000   -2.52e+04    -1.2e+04\n",
       "BsmtQual_NA            1.198e+04   1.23e+04      0.976      0.329   -1.21e+04    3.61e+04\n",
       "BsmtQual_TA           -1.544e+04   4150.238     -3.721      0.000   -2.36e+04   -7299.718\n",
       "BsmtCond_Gd            -400.8116   5288.290     -0.076      0.940   -1.08e+04    9974.356\n",
       "BsmtCond_NA            1.198e+04   1.23e+04      0.976      0.329   -1.21e+04    3.61e+04\n",
       "BsmtCond_Po            7.191e+04   2.99e+04      2.401      0.016    1.32e+04    1.31e+05\n",
       "BsmtCond_TA            2988.5212   4257.256      0.702      0.483   -5363.848    1.13e+04\n",
       "BsmtExposure_Gd        1.298e+04   3003.773      4.322      0.000    7090.145    1.89e+04\n",
       "BsmtExposure_Mn       -4421.3001   3035.385     -1.457      0.145   -1.04e+04    1533.862\n",
       "BsmtExposure_NA       -1.106e+04   2.32e+04     -0.478      0.633   -5.65e+04    3.44e+04\n",
       "BsmtExposure_No       -5613.9492   2186.841     -2.567      0.010   -9904.343   -1323.556\n",
       "BsmtFinType1_BLQ       2339.8963   2803.345      0.835      0.404   -3160.025    7839.817\n",
       "BsmtFinType1_GLQ       5750.5124   2515.641      2.286      0.022     815.043    1.07e+04\n",
       "BsmtFinType1_LwQ      -3506.7507   3757.276     -0.933      0.351   -1.09e+04    3864.699\n",
       "BsmtFinType1_NA        1.198e+04   1.23e+04      0.976      0.329   -1.21e+04    3.61e+04\n",
       "BsmtFinType1_Rec       -315.0164   2997.296     -0.105      0.916   -6195.452    5565.419\n",
       "BsmtFinType1_Unf       3043.7384   2919.627      1.043      0.297   -2684.317    8771.794\n",
       "BsmtFinType2_BLQ      -1.367e+04   7600.880     -1.798      0.072   -2.86e+04    1246.385\n",
       "BsmtFinType2_GLQ      -3231.4936   9384.043     -0.344      0.731   -2.16e+04    1.52e+04\n",
       "BsmtFinType2_LwQ      -1.556e+04   7422.610     -2.097      0.036   -3.01e+04    -999.281\n",
       "BsmtFinType2_NA       -2.873e+04   2.51e+04     -1.143      0.253   -7.81e+04    2.06e+04\n",
       "BsmtFinType2_Rec      -1.096e+04   7146.529     -1.533      0.126    -2.5e+04    3065.472\n",
       "BsmtFinType2_Unf      -9557.6724   7606.911     -1.256      0.209   -2.45e+04    5366.430\n",
       "Heating_GasA            1.12e+04   2.57e+04      0.436      0.663   -3.93e+04    6.17e+04\n",
       "Heating_GasW           7622.4513   2.65e+04      0.288      0.774   -4.44e+04    5.96e+04\n",
       "Heating_Grav           5429.0532   2.82e+04      0.193      0.847   -4.99e+04    6.07e+04\n",
       "Heating_OthW          -1.152e+04   3.16e+04     -0.364      0.716   -7.36e+04    5.05e+04\n",
       "Heating_Wall           2.565e+04   2.99e+04      0.859      0.391   -3.29e+04    8.42e+04\n",
       "HeatingQC_Fa            333.8108   4694.715      0.071      0.943   -8876.815    9544.436\n",
       "HeatingQC_Gd          -3507.9957   2062.836     -1.701      0.089   -7555.102     539.111\n",
       "HeatingQC_Po           3258.1752   2.67e+04      0.122      0.903   -4.92e+04    5.57e+04\n",
       "HeatingQC_TA          -3379.8250   2077.530     -1.627      0.104   -7455.759     696.109\n",
       "CentralAir_Y            199.9144   3889.754      0.051      0.959   -7431.448    7831.276\n",
       "Electrical_FuseF       -548.7313   5776.682     -0.095      0.924   -1.19e+04    1.08e+04\n",
       "Electrical_FuseP      -8784.0872   1.86e+04     -0.472      0.637   -4.53e+04    2.78e+04\n",
       "Electrical_Mix        -4.774e+04   4.47e+04     -1.068      0.286   -1.35e+05    3.99e+04\n",
       "Electrical_SBrkr      -1225.5760   2960.055     -0.414      0.679   -7032.948    4581.796\n",
       "KitchenQual_Fa        -1.967e+04   6227.721     -3.158      0.002   -3.19e+04   -7448.388\n",
       "KitchenQual_Gd        -2.423e+04   3498.908     -6.924      0.000   -3.11e+04   -1.74e+04\n",
       "KitchenQual_TA        -2.208e+04   3941.153     -5.604      0.000   -2.98e+04   -1.44e+04\n",
       "Functional_Maj2        -688.4352   1.44e+04     -0.048      0.962    -2.9e+04    2.76e+04\n",
       "Functional_Min1        1.037e+04   8624.621      1.203      0.229   -6545.813    2.73e+04\n",
       "Functional_Min2        1.172e+04   8620.559      1.360      0.174   -5188.420    2.86e+04\n",
       "Functional_Mod         -343.0797   1.04e+04     -0.033      0.974   -2.08e+04    2.01e+04\n",
       "Functional_Sev          -4.2e+04   2.96e+04     -1.419      0.156      -1e+05    1.61e+04\n",
       "Functional_Typ          2.12e+04   7466.320      2.839      0.005    6547.854    3.58e+04\n",
       "FireplaceQu_Fa        -2794.2868   6902.200     -0.405      0.686   -1.63e+04    1.07e+04\n",
       "FireplaceQu_Gd         1425.6066   5342.850      0.267      0.790   -9056.604    1.19e+04\n",
       "FireplaceQu_NA         7760.8393   6252.593      1.241      0.215   -4506.208       2e+04\n",
       "FireplaceQu_Po         9051.9532   7866.004      1.151      0.250   -6380.468    2.45e+04\n",
       "FireplaceQu_TA         2428.1083   5558.114      0.437      0.662   -8476.431    1.33e+04\n",
       "GarageType_Attchd      1.969e+04    1.1e+04      1.793      0.073   -1860.546    4.12e+04\n",
       "GarageType_Basment     2.311e+04   1.27e+04      1.814      0.070   -1885.008    4.81e+04\n",
       "GarageType_BuiltIn     1.899e+04   1.14e+04      1.662      0.097   -3431.483    4.14e+04\n",
       "GarageType_CarPort     2.489e+04   1.47e+04      1.695      0.090   -3917.664    5.37e+04\n",
       "GarageType_Detchd      2.306e+04    1.1e+04      2.098      0.036    1492.789    4.46e+04\n",
       "GarageType_NA         -7276.6399   3.06e+04     -0.238      0.812   -6.73e+04    5.27e+04\n",
       "GarageFinish_NA       -7276.6399   3.06e+04     -0.238      0.812   -6.73e+04    5.27e+04\n",
       "GarageFinish_RFn      -2735.7471   1967.159     -1.391      0.165   -6595.144    1123.650\n",
       "GarageFinish_Unf       -155.2805   2422.129     -0.064      0.949   -4907.289    4596.728\n",
       "GarageQual_Fa         -1.162e+05   3.02e+04     -3.841      0.000   -1.75e+05   -5.68e+04\n",
       "GarageQual_Gd         -1.093e+05    3.1e+04     -3.523      0.000    -1.7e+05   -4.84e+04\n",
       "GarageQual_NA         -7276.6399   3.06e+04     -0.238      0.812   -6.73e+04    5.27e+04\n",
       "GarageQual_Po          -1.33e+05   3.86e+04     -3.446      0.001   -2.09e+05   -5.73e+04\n",
       "GarageQual_TA           -1.1e+05   2.99e+04     -3.675      0.000   -1.69e+05   -5.13e+04\n",
       "GarageCond_Fa          1.045e+05   3.49e+04      2.992      0.003     3.6e+04    1.73e+05\n",
       "GarageCond_Gd          1.026e+05   3.61e+04      2.838      0.005    3.17e+04    1.73e+05\n",
       "GarageCond_NA         -7276.6399   3.06e+04     -0.238      0.812   -6.73e+04    5.27e+04\n",
       "GarageCond_Po          1.101e+05   3.75e+04      2.934      0.003    3.65e+04    1.84e+05\n",
       "GarageCond_TA          1.057e+05   3.46e+04      3.054      0.002    3.78e+04    1.74e+05\n",
       "PavedDrive_P          -2918.3681   5557.046     -0.525      0.600   -1.38e+04    7984.075\n",
       "PavedDrive_Y             38.7624   3473.419      0.011      0.991   -6775.786    6853.311\n",
       "SaleType_CWD           1.515e+04   1.29e+04      1.174      0.241   -1.02e+04    4.05e+04\n",
       "SaleType_Con           2.685e+04   1.76e+04      1.521      0.128   -7778.848    6.15e+04\n",
       "SaleType_ConLD         1.596e+04   9720.763      1.642      0.101   -3109.070     3.5e+04\n",
       "SaleType_ConLI         4338.3994   1.16e+04      0.374      0.708   -1.84e+04    2.71e+04\n",
       "SaleType_ConLw          926.8630   1.22e+04      0.076      0.940   -2.31e+04    2.49e+04\n",
       "SaleType_New            2.16e+04   1.55e+04      1.393      0.164   -8825.745     5.2e+04\n",
       "SaleType_Oth           7480.4365   1.45e+04      0.516      0.606    -2.1e+04    3.59e+04\n",
       "SaleType_WD              95.7483   4194.122      0.023      0.982   -8132.757    8324.254\n",
       "SaleCondition_AdjLand  7618.8311   1.47e+04      0.520      0.603   -2.11e+04    3.64e+04\n",
       "SaleCondition_Alloca   3531.8568   8810.310      0.401      0.689   -1.38e+04    2.08e+04\n",
       "SaleCondition_Family   -943.1651   6113.224     -0.154      0.877   -1.29e+04    1.11e+04\n",
       "SaleCondition_Normal   5293.2227   2903.101      1.823      0.069    -402.410     1.1e+04\n",
       "SaleCondition_Partial -1647.1454   1.49e+04     -0.110      0.912    -3.1e+04    2.77e+04\n",
       "==============================================================================\n",
       "Omnibus:                      445.386   Durbin-Watson:                   1.920\n",
       "Prob(Omnibus):                  0.000   Jarque-Bera (JB):            16088.123\n",
       "Skew:                           0.726   Prob(JB):                         0.00\n",
       "Kurtosis:                      19.197   Cond. No.                     9.00e+16\n",
       "==============================================================================\n",
       "\n",
       "Warnings:\n",
       "[1] Standard Errors assume that the covariance matrix of the errors is correctly specified.\n",
       "[2] The smallest eigenvalue is  4e-23. This might indicate that there are\n",
       "strong multicollinearity problems or that the design matrix is singular.\n",
       "\"\"\""
      ]
     },
     "execution_count": 191,
     "metadata": {},
     "output_type": "execute_result"
    }
   ],
   "source": [
    "x_c=add_constant(x)\n",
    "mod=OLS(y,x).fit()\n",
    "mod.summary()"
   ]
  },
  {
   "cell_type": "code",
   "execution_count": 251,
   "metadata": {},
   "outputs": [],
   "source": [
    "lasso=Lasso(alpha=100,max_iter=10e6)\n",
    "mod=lasso.fit(x,y)\n",
    "c=mod.coef_"
   ]
  },
  {
   "cell_type": "code",
   "execution_count": 266,
   "metadata": {},
   "outputs": [],
   "source": [
    "pd.set_option('display.max_rows',100)\n",
    "cd=pd.DataFrame(c,index=x.columns)\n",
    "p=mod.predict(test)"
   ]
  },
  {
   "cell_type": "code",
   "execution_count": 268,
   "metadata": {},
   "outputs": [],
   "source": [
    "lol=pd.DataFrame({'SalePrice':p},index=t.Id)\n",
    "lol.to_csv('lol.csv')"
   ]
  },
  {
   "cell_type": "code",
   "execution_count": 287,
   "metadata": {},
   "outputs": [],
   "source": [
    "tr=d[d.SalePrice.isnull()==False].copy()\n",
    "t1=d[d.SalePrice.isnull()==True].copy()\n",
    "ts=t1.drop(['SalePrice','Id'],axis=1)"
   ]
  },
  {
   "cell_type": "code",
   "execution_count": 291,
   "metadata": {},
   "outputs": [
    {
     "data": {
      "text/plain": [
       "(1459, 81)"
      ]
     },
     "execution_count": 291,
     "metadata": {},
     "output_type": "execute_result"
    }
   ],
   "source": [
    "ts.shape"
   ]
  },
  {
   "cell_type": "code",
   "execution_count": 292,
   "metadata": {},
   "outputs": [],
   "source": [
    "x1=tr.drop(['SalePrice','Id'],axis=1)\n",
    "y1=tr.SalePrice"
   ]
  },
  {
   "cell_type": "code",
   "execution_count": 293,
   "metadata": {},
   "outputs": [],
   "source": [
    "lasso=Lasso(alpha=1,max_iter=10e6)\n",
    "mod=lasso.fit(x1,y1)\n",
    "c1=mod.coef_\n",
    "p=mod.predict(ts)"
   ]
  },
  {
   "cell_type": "code",
   "execution_count": 294,
   "metadata": {},
   "outputs": [],
   "source": [
    "lol=pd.DataFrame({'SalePrice':p},index=t.Id)\n",
    "lol.to_csv('lol1.csv')"
   ]
  },
  {
   "cell_type": "code",
   "execution_count": 297,
   "metadata": {},
   "outputs": [],
   "source": [
    "rfc=RandomForestRegressor(n_estimators=250,criterion='mae',max_depth=10)\n",
    "mod1=rfc.fit(x1,y1)\n",
    "p=mod1.predict(ts)\n",
    "lol=pd.DataFrame({'SalePrice':p},index=t1.Id)\n",
    "lol.to_csv('lol2.csv')"
   ]
  },
  {
   "cell_type": "markdown",
   "metadata": {},
   "source": [
    "# Data Preperation"
   ]
  },
  {
   "cell_type": "code",
   "execution_count": 298,
   "metadata": {},
   "outputs": [],
   "source": [
    "df3=df"
   ]
  },
  {
   "cell_type": "code",
   "execution_count": 299,
   "metadata": {},
   "outputs": [],
   "source": [
    "df3=df\n",
    "df3['total_bathroom']=df3['BsmtFullBath']+df3['BsmtHalfBath']*0.5+ \\\n",
    "df3['FullBath']+df3['HalfBath']*0.5\n",
    "df3=df3.drop(['BsmtFullBath','BsmtHalfBath','FullBath','HalfBath'],axis=1)"
   ]
  },
  {
   "cell_type": "code",
   "execution_count": 300,
   "metadata": {},
   "outputs": [],
   "source": [
    "df3['Condition_isnorm']=df3['Condition1'].apply(lambda x:0 if x=='Norm' else 1)\n",
    "df3=df3.drop('Condition1',axis=1)"
   ]
  },
  {
   "cell_type": "code",
   "execution_count": 301,
   "metadata": {},
   "outputs": [],
   "source": [
    "df3[qual]=df[qual]\n",
    "for i in qual:\n",
    "    df2[i]=df2[i].map({'Ex':5,'Gd':4,'TA':3,'Fa':2,'Po':1,'NA':0})"
   ]
  },
  {
   "cell_type": "code",
   "execution_count": 311,
   "metadata": {},
   "outputs": [],
   "source": [
    "df3['MSSubClass']=df3['MSSubClass'].astype('object')"
   ]
  },
  {
   "cell_type": "code",
   "execution_count": 303,
   "metadata": {},
   "outputs": [
    {
     "data": {
      "text/plain": [
       "count      1460.000000\n",
       "mean     180921.195890\n",
       "std       79442.502883\n",
       "min       34900.000000\n",
       "25%      129975.000000\n",
       "50%      163000.000000\n",
       "75%      214000.000000\n",
       "max      755000.000000\n",
       "Name: SalePrice, dtype: float64"
      ]
     },
     "execution_count": 303,
     "metadata": {},
     "output_type": "execute_result"
    }
   ],
   "source": [
    "df3['SalePrice'].describe()"
   ]
  },
  {
   "cell_type": "code",
   "execution_count": 305,
   "metadata": {},
   "outputs": [
    {
     "data": {
      "text/plain": [
       "<matplotlib.axes._subplots.AxesSubplot at 0x20336b3cd48>"
      ]
     },
     "execution_count": 305,
     "metadata": {},
     "output_type": "execute_result"
    },
    {
     "data": {
      "image/png": "[encoded data removed]",
      "text/plain": [
       "<Figure size 432x288 with 1 Axes>"
      ]
     },
     "metadata": {
      "needs_background": "light"
     },
     "output_type": "display_data"
    }
   ],
   "source": [
    "sns.distplot(y)"
   ]
  },
  {
   "cell_type": "code",
   "execution_count": 309,
   "metadata": {},
   "outputs": [
    {
     "data": {
      "text/plain": [
       "1.8828757597682129"
      ]
     },
     "execution_count": 309,
     "metadata": {},
     "output_type": "execute_result"
    }
   ],
   "source": [
    "y.skew()"
   ]
  },
  {
   "cell_type": "code",
   "execution_count": 306,
   "metadata": {},
   "outputs": [
    {
     "data": {
      "text/plain": [
       "<matplotlib.axes._subplots.AxesSubplot at 0x20336c00388>"
      ]
     },
     "execution_count": 306,
     "metadata": {},
     "output_type": "execute_result"
    },
    {
     "data": {
      "image/png": "[encoded data removed]",
      "text/plain": [
       "<Figure size 432x288 with 1 Axes>"
      ]
     },
     "metadata": {
      "needs_background": "light"
     },
     "output_type": "display_data"
    }
   ],
   "source": [
    "sns.boxplot(y)"
   ]
  },
  {
   "cell_type": "code",
   "execution_count": 307,
   "metadata": {},
   "outputs": [
    {
     "data": {
      "text/plain": [
       "<matplotlib.axes._subplots.AxesSubplot at 0x20336c56088>"
      ]
     },
     "execution_count": 307,
     "metadata": {},
     "output_type": "execute_result"
    },
    {
     "data": {
      "image/png": "[encoded data removed]",
      "text/plain": [
       "<Figure size 432x288 with 1 Axes>"
      ]
     },
     "metadata": {
      "needs_background": "light"
     },
     "output_type": "display_data"
    }
   ],
   "source": [
    "sns.distplot(np.log(y))"
   ]
  },
  {
   "cell_type": "code",
   "execution_count": 308,
   "metadata": {},
   "outputs": [
    {
     "data": {
      "text/plain": [
       "0.12133506220520406"
      ]
     },
     "execution_count": 308,
     "metadata": {},
     "output_type": "execute_result"
    }
   ],
   "source": [
    "yln=np.log(y)\n",
    "yln.skew()"
   ]
  },
  {
   "cell_type": "code",
   "execution_count": 325,
   "metadata": {},
   "outputs": [
    {
     "data": {
      "image/png": "[encoded data removed]",
      "text/plain": [
       "<Figure size 432x288 with 1 Axes>"
      ]
     },
     "metadata": {
      "needs_background": "light"
     },
     "output_type": "display_data"
    },
    {
     "data": {
      "image/png": "[encoded data removed]",
      "text/plain": [
       "<Figure size 432x288 with 1 Axes>"
      ]
     },
     "metadata": {
      "needs_background": "light"
     },
     "output_type": "display_data"
    },
    {
     "data": {
      "image/png": "[encoded data removed]",
      "text/plain": [
       "<Figure size 432x288 with 1 Axes>"
      ]
     },
     "metadata": {
      "needs_background": "light"
     },
     "output_type": "display_data"
    },
    {
     "data": {
      "image/png": "[encoded data removed]",
      "text/plain": [
       "<Figure size 432x288 with 1 Axes>"
      ]
     },
     "metadata": {
      "needs_background": "light"
     },
     "output_type": "display_data"
    },
    {
     "data": {
      "image/png": "[encoded data removed]",
      "text/plain": [
       "<Figure size 432x288 with 1 Axes>"
      ]
     },
     "metadata": {
      "needs_background": "light"
     },
     "output_type": "display_data"
    },
    {
     "data": {
      "image/png": "[encoded data removed]",
      "text/plain": [
       "<Figure size 432x288 with 1 Axes>"
      ]
     },
     "metadata": {
      "needs_background": "light"
     },
     "output_type": "display_data"
    },
    {
     "data": {
      "image/png": "[encoded data removed]",
      "text/plain": [
       "<Figure size 432x288 with 1 Axes>"
      ]
     },
     "metadata": {
      "needs_background": "light"
     },
     "output_type": "display_data"
    },
    {
     "data": {
      "image/png": "[encoded data removed]",
      "text/plain": [
       "<Figure size 432x288 with 1 Axes>"
      ]
     },
     "metadata": {
      "needs_background": "light"
     },
     "output_type": "display_data"
    },
    {
     "data": {
      "image/png": "[encoded data removed]",
      "text/plain": [
       "<Figure size 432x288 with 1 Axes>"
      ]
     },
     "metadata": {
      "needs_background": "light"
     },
     "output_type": "display_data"
    },
    {
     "data": {
      "image/png": "[encoded data removed]",
      "text/plain": [
       "<Figure size 432x288 with 1 Axes>"
      ]
     },
     "metadata": {
      "needs_background": "light"
     },
     "output_type": "display_data"
    },
    {
     "data": {
      "image/png": "[encoded data removed]",
      "text/plain": [
       "<Figure size 432x288 with 1 Axes>"
      ]
     },
     "metadata": {
      "needs_background": "light"
     },
     "output_type": "display_data"
    },
    {
     "data": {
      "image/png": "[encoded data removed]",
      "text/plain": [
       "<Figure size 432x288 with 1 Axes>"
      ]
     },
     "metadata": {
      "needs_background": "light"
     },
     "output_type": "display_data"
    },
    {
     "data": {
      "image/png": "[encoded data removed]",
      "text/plain": [
       "<Figure size 432x288 with 1 Axes>"
      ]
     },
     "metadata": {
      "needs_background": "light"
     },
     "output_type": "display_data"
    },
    {
     "data": {
      "image/png": "[encoded data removed]",
      "text/plain": [
       "<Figure size 432x288 with 1 Axes>"
      ]
     },
     "metadata": {
      "needs_background": "light"
     },
     "output_type": "display_data"
    },
    {
     "data": {
      "image/png": "[encoded data removed]",
      "text/plain": [
       "<Figure size 432x288 with 1 Axes>"
      ]
     },
     "metadata": {
      "needs_background": "light"
     },
     "output_type": "display_data"
    },
    {
     "data": {
      "image/png": "[encoded data removed]",
      "text/plain": [
       "<Figure size 432x288 with 1 Axes>"
      ]
     },
     "metadata": {
      "needs_background": "light"
     },
     "output_type": "display_data"
    },
    {
     "data": {
      "image/png": "[encoded data removed]",
      "text/plain": [
       "<Figure size 432x288 with 1 Axes>"
      ]
     },
     "metadata": {
      "needs_background": "light"
     },
     "output_type": "display_data"
    },
    {
     "data": {
      "image/png": "[encoded data removed]",
      "text/plain": [
       "<Figure size 432x288 with 1 Axes>"
      ]
     },
     "metadata": {
      "needs_background": "light"
     },
     "output_type": "display_data"
    },
    {
     "data": {
      "image/png": "[encoded data removed]",
      "text/plain": [
       "<Figure size 432x288 with 1 Axes>"
      ]
     },
     "metadata": {
      "needs_background": "light"
     },
     "output_type": "display_data"
    },
    {
     "data": {
      "image/png": "[encoded data removed]",
      "text/plain": [
       "<Figure size 432x288 with 1 Axes>"
      ]
     },
     "metadata": {
      "needs_background": "light"
     },
     "output_type": "display_data"
    },
    {
     "data": {
      "image/png": "[encoded data removed]",
      "text/plain": [
       "<Figure size 432x288 with 1 Axes>"
      ]
     },
     "metadata": {
      "needs_background": "light"
     },
     "output_type": "display_data"
    },
    {
     "data": {
      "image/png": "[encoded data removed]",
      "text/plain": [
       "<Figure size 432x288 with 1 Axes>"
      ]
     },
     "metadata": {
      "needs_background": "light"
     },
     "output_type": "display_data"
    },
    {
     "data": {
      "image/png": "[encoded data removed]",
      "text/plain": [
       "<Figure size 432x288 with 1 Axes>"
      ]
     },
     "metadata": {
      "needs_background": "light"
     },
     "output_type": "display_data"
    },
    {
     "data": {
      "image/png": "[encoded data removed]",
      "text/plain": [
       "<Figure size 432x288 with 1 Axes>"
      ]
     },
     "metadata": {
      "needs_background": "light"
     },
     "output_type": "display_data"
    },
    {
     "data": {
      "image/png": "[encoded data removed]",
      "text/plain": [
       "<Figure size 432x288 with 1 Axes>"
      ]
     },
     "metadata": {
      "needs_background": "light"
     },
     "output_type": "display_data"
    },
    {
     "data": {
      "image/png": "[encoded data removed]",
      "text/plain": [
       "<Figure size 432x288 with 1 Axes>"
      ]
     },
     "metadata": {
      "needs_background": "light"
     },
     "output_type": "display_data"
    },
    {
     "data": {
      "image/png": "[encoded data removed]",
      "text/plain": [
       "<Figure size 432x288 with 1 Axes>"
      ]
     },
     "metadata": {
      "needs_background": "light"
     },
     "output_type": "display_data"
    },
    {
     "data": {
      "image/png": "[encoded data removed]",
      "text/plain": [
       "<Figure size 432x288 with 1 Axes>"
      ]
     },
     "metadata": {
      "needs_background": "light"
     },
     "output_type": "display_data"
    },
    {
     "data": {
      "image/png": "[encoded data removed]",
      "text/plain": [
       "<Figure size 432x288 with 1 Axes>"
      ]
     },
     "metadata": {
      "needs_background": "light"
     },
     "output_type": "display_data"
    }
   ],
   "source": [
    "for i in df3.columns:\n",
    "    if (df3[i].dtype!='O')&(i!='SalePrice'):\n",
    "        sns.distplot(df3[i])\n",
    "        plt.show()\n",
    "        "
   ]
  },
  {
   "cell_type": "code",
   "execution_count": 323,
   "metadata": {},
   "outputs": [],
   "source": [
    "df3['total_porchSF']=0\n",
    "df3['total_porchSF']=df3['OpenPorchSF']+df3['EnclosedPorch']+df3['3SsnPorch']+df3['ScreenPorch']+df3['WoodDeckSF']\n",
    "df3=df3.drop(['EnclosedPorch','OpenPorchSF','3SsnPorch','WoodDeckSF','ScreenPorch'],axis=1)"
   ]
  },
  {
   "cell_type": "code",
   "execution_count": null,
   "metadata": {},
   "outputs": [],
   "source": []
  },
  {
   "cell_type": "code",
   "execution_count": 313,
   "metadata": {},
   "outputs": [],
   "source": [
    "drop_cols=['Street','LandContour','Utilities','LandSlope','Condition2','BldgType','RoofStyle','RoofMatl',\n",
    "          'Exterior1st','Exterior2nd','BsmtFinType1','BsmtFinType2','Heating',\n",
    "           'BsmtFinSF1','BsmtFinSF2','BsmtUnfSF','Electrical','FireplaceQu','GarageFinish',\n",
    "           'GarageArea','PavedDrive','PoolArea','SaleType','LotShape','HouseStyle',]\n",
    "drp2=['GarageYrBlt','MiscVal','MoSold','YrSold','Alley_present']\n",
    "df3=df3.drop(drop_cols,axis=1)"
   ]
  },
  {
   "cell_type": "code",
   "execution_count": 315,
   "metadata": {},
   "outputs": [],
   "source": [
    "log_trans_cols=['LotFrontage','LotArea','MasVnrArea','TotalBsmtSF','1stFlrSF','2ndFlrSF']"
   ]
  },
  {
   "cell_type": "code",
   "execution_count": 320,
   "metadata": {},
   "outputs": [],
   "source": [
    "df3['LowQualFin%']=df3['LowQualFinSF']/df3['GrLivArea']\n",
    "df3=df3.drop('LowQualFinSF',axis=1)"
   ]
  },
  {
   "cell_type": "code",
   "execution_count": 326,
   "metadata": {},
   "outputs": [],
   "source": [
    "df3[log_trans_cols]=df3[log_trans_cols].apply(np.log)"
   ]
  },
  {
   "cell_type": "code",
   "execution_count": 331,
   "metadata": {},
   "outputs": [],
   "source": [
    "df3[log_trans_cols]=df3[log_trans_cols].replace(-np.inf,0)"
   ]
  },
  {
   "cell_type": "code",
   "execution_count": 335,
   "metadata": {},
   "outputs": [],
   "source": [
    "df3[qual]=df[qual]\n",
    "for i in qual:\n",
    "    df3[i]=df3[i].map({'Ex':5,'Gd':4,'TA':3,'Fa':2,'Po':1,'NA':0})"
   ]
  },
  {
   "cell_type": "code",
   "execution_count": 338,
   "metadata": {},
   "outputs": [
    {
     "data": {
      "text/plain": [
       "<matplotlib.axes._subplots.AxesSubplot at 0x2033b4b67c8>"
      ]
     },
     "execution_count": 338,
     "metadata": {},
     "output_type": "execute_result"
    },
    {
     "data": {
      "image/png": "[encoded data removed]",
      "text/plain": [
       "<Figure size 432x288 with 1 Axes>"
      ]
     },
     "metadata": {
      "needs_background": "light"
     },
     "output_type": "display_data"
    }
   ],
   "source": [
    "sns.boxplot(data=df3,y='SalePrice',x='Neighborhood')"
   ]
  },
  {
   "cell_type": "code",
   "execution_count": 339,
   "metadata": {},
   "outputs": [
    {
     "data": {
      "text/plain": [
       "(2919, 115)"
      ]
     },
     "execution_count": 339,
     "metadata": {},
     "output_type": "execute_result"
    }
   ],
   "source": [
    "cat1=[]\n",
    "for i in df3.columns:\n",
    "    if df3[i].dtype=='O':\n",
    "        cat1.append(i)\n",
    "d1=pd.get_dummies(df3,columns=cat1,drop_first=True)\n",
    "d1.shape"
   ]
  },
  {
   "cell_type": "code",
   "execution_count": 342,
   "metadata": {},
   "outputs": [],
   "source": [
    "#d1=d1.drop('Id',axis=1)\n",
    "train3=d1[d1['SalePrice'].isnull()==False]\n",
    "test3=d1[d1['SalePrice'].isnull()==True].drop('SalePrice',axis=1)"
   ]
  },
  {
   "cell_type": "code",
   "execution_count": 343,
   "metadata": {},
   "outputs": [
    {
     "data": {
      "text/plain": [
       "(1459, 113)"
      ]
     },
     "execution_count": 343,
     "metadata": {},
     "output_type": "execute_result"
    }
   ],
   "source": [
    "test3.shape"
   ]
  },
  {
   "cell_type": "code",
   "execution_count": 344,
   "metadata": {},
   "outputs": [
    {
     "data": {
      "text/plain": [
       "(1460, 114)"
      ]
     },
     "execution_count": 344,
     "metadata": {},
     "output_type": "execute_result"
    }
   ],
   "source": [
    "train3.shape"
   ]
  },
  {
   "cell_type": "code",
   "execution_count": 345,
   "metadata": {},
   "outputs": [],
   "source": [
    "x3=train3.drop('SalePrice',axis=1)\n",
    "y3=np.log(train3.SalePrice)"
   ]
  },
  {
   "cell_type": "code",
   "execution_count": 347,
   "metadata": {},
   "outputs": [],
   "source": [
    "x3_tr,x3_ts,y3_tr,y3_ts=train_test_split(x3,y3,test_size=0.3,random_state=6969)\n",
    "\n",
    "lr=LinearRegression()\n",
    "rf=RandomForestRegressor(n_estimators=150)\n",
    "lgb=LGBMRegressor()\n",
    "lasso=Lasso(alpha=0.2)"
   ]
  },
  {
   "cell_type": "code",
   "execution_count": 349,
   "metadata": {},
   "outputs": [
    {
     "name": "stdout",
     "output_type": "stream",
     "text": [
      "\n",
      " Linear Regression\n",
      "\n",
      "Train Scores\n",
      "R2: 0.931467828081721\n",
      "MAE: 0.07022419130006824\n",
      "MSE: 0.01066801418429805\n",
      "\n",
      "Test Scores\n",
      "R2: 0.8556354448070043\n",
      "MAE: 0.09461333337939613\n",
      "MSE: 0.024186513249791573\n",
      "\n",
      " Random Forest\n",
      "\n",
      "Train Scores\n",
      "R2: 0.9819134351476785\n",
      "MAE: 0.03569661736182764\n",
      "MSE: 0.0028154328834036194\n",
      "\n",
      "Test Scores\n",
      "R2: 0.8547047561604624\n",
      "MAE: 0.10373523454810213\n",
      "MSE: 0.024342438734762047\n",
      "\n",
      " Light GBM\n",
      "\n",
      "Train Scores\n",
      "R2: 0.9873063820509261\n",
      "MAE: 0.026484612133706047\n",
      "MSE: 0.0019759434516719594\n",
      "\n",
      "Test Scores\n",
      "R2: 0.8717206628454012\n",
      "MAE: 0.09607804111013338\n",
      "MSE: 0.021491631956447974\n",
      "\n",
      " Lasso\n",
      "\n",
      "Train Scores\n",
      "R2: 0.7663620651314302\n",
      "MAE: 0.13993307069138047\n",
      "MSE: 0.036369091091117425\n",
      "\n",
      "Test Scores\n",
      "R2: 0.7128344305403906\n",
      "MAE: 0.14797259706736898\n",
      "MSE: 0.048111074365404675\n"
     ]
    }
   ],
   "source": [
    "models={'Linear Regression':lr,'Random Forest':rf,'Light GBM':lgb,'Lasso':lasso}\n",
    "mod3={}\n",
    "for i in models:\n",
    "    print('\\n',i)\n",
    "    a=models[i].fit(x3_tr,y3_tr)\n",
    "    pred_ts=a.predict(x3_ts)\n",
    "    pred_tr=a.predict(x3_tr)\n",
    "    print('\\nTrain Scores')\n",
    "    tr_r2=r2_score(y3_tr,pred_tr)\n",
    "    tr_mae=mean_absolute_error(y3_tr,pred_tr)\n",
    "    tr_mse=mean_squared_error(y3_tr,pred_tr)\n",
    "    print('R2:',tr_r2)\n",
    "    print('MAE:',tr_mae)\n",
    "    print('MSE:',tr_mse)\n",
    "    print('\\nTest Scores')\n",
    "    ts_r2=r2_score(y3_ts,pred_ts)\n",
    "    ts_mae=mean_absolute_error(y3_ts,pred_ts)\n",
    "    ts_mse=mean_squared_error(y3_ts,pred_ts)\n",
    "    print('R2:',ts_r2)\n",
    "    print('MAE:',ts_mae)\n",
    "    print('MSE:',ts_mse)\n",
    "    mod3[i]=a"
   ]
  },
  {
   "cell_type": "code",
   "execution_count": 352,
   "metadata": {},
   "outputs": [
    {
     "name": "stdout",
     "output_type": "stream",
     "text": [
      "178399.53276935115\n",
      "176895.85508314188\n",
      "177973.2820505167\n",
      "174524.20154069582\n"
     ]
    }
   ],
   "source": [
    "for i in models:\n",
    "    a=models[i].fit(x3,y3)\n",
    "    pred=a.predict(test3)\n",
    "    p=np.exp(pred)\n",
    "    print(p.mean())\n",
    "    result=pd.DataFrame({'SalePrice':p},index=t1.Id)\n",
    "    result.to_csv('result_'+i+'.csv')"
   ]
  },
  {
   "cell_type": "code",
   "execution_count": 356,
   "metadata": {},
   "outputs": [
    {
     "name": "stdout",
     "output_type": "stream",
     "text": [
      "{'learning_rate': 0.1758192774139571, 'max_depth': 17, 'n_estimators': 176, 'num_leaves': 27} \n",
      " -0.09312744238617288\n"
     ]
    }
   ],
   "source": [
    "params={'num_leaves':st.randint(20,50),\n",
    "    'max_depth':st.randint(2,50),\n",
    "    'learning_rate':st.uniform(0,1),\n",
    "    'n_estimators':st.randint(100,250) ,}\n",
    "rs=RandomizedSearchCV(lgb,param_distributions=params,scoring='neg_mean_absolute_error',n_jobs=-1,cv=5)\n",
    "rm=rs.fit(x3,y3)\n",
    "bp=rm.best_params_\n",
    "print(bp,'\\n',rm.best_score_)"
   ]
  },
  {
   "cell_type": "code",
   "execution_count": 357,
   "metadata": {},
   "outputs": [],
   "source": [
    "lgb=LGBMRegressor(**bp)\n",
    "lm=lgb.fit(x3,y3)\n",
    "pred=lm.predict(test3)\n",
    "p=np.exp(pred)\n",
    "result=pd.DataFrame({'SalePrice':p},index=t1.Id)\n",
    "result.to_csv('result_lgb_bp.csv')\n"
   ]
  },
  {
   "cell_type": "code",
   "execution_count": 375,
   "metadata": {},
   "outputs": [
    {
     "data": {
      "text/plain": [
       "47"
      ]
     },
     "execution_count": 375,
     "metadata": {},
     "output_type": "execute_result"
    }
   ],
   "source": [
    "dr=list(feat['cols'][feat['rank']!=1])\n",
    "len(dr)"
   ]
  },
  {
   "cell_type": "code",
   "execution_count": 376,
   "metadata": {},
   "outputs": [],
   "source": [
    "x3_rfe=x3.drop(dr,axis=1)\n",
    "x3_test=test3.drop(dr,axis=1)\n",
    "lgb=LGBMRegressor(**bp)\n",
    "lm=lgb.fit(x3_rfe,y3)\n",
    "pred=lm.predict(x3_test)\n",
    "p=np.exp(pred)\n",
    "result=pd.DataFrame({'SalePrice':p},index=t1.Id)\n",
    "result.to_csv('result_lgb_rfe.csv')\n"
   ]
  },
  {
   "cell_type": "markdown",
   "metadata": {},
   "source": [
    "# Trying RFE combined with Adjusted R2"
   ]
  },
  {
   "cell_type": "code",
   "execution_count": 358,
   "metadata": {},
   "outputs": [],
   "source": [
    "def adj_r2(y_true,y_pred,samp_size,no_feat):\n",
    "    r2=r2_score(y_true,y_pred)\n",
    "    adr2=1-((1-r2)*(samp_size-1)/(samp_size-no_feat-1))\n",
    "    return r2,adr2"
   ]
  },
  {
   "cell_type": "code",
   "execution_count": 363,
   "metadata": {},
   "outputs": [],
   "source": [
    "from sklearn.feature_selection import RFECV,RFE"
   ]
  },
  {
   "cell_type": "code",
   "execution_count": 364,
   "metadata": {},
   "outputs": [
    {
     "data": {
      "text/plain": [
       "(1460, 250)"
      ]
     },
     "execution_count": 364,
     "metadata": {},
     "output_type": "execute_result"
    }
   ],
   "source": [
    "x.shape"
   ]
  },
  {
   "cell_type": "code",
   "execution_count": 372,
   "metadata": {},
   "outputs": [
    {
     "data": {
      "text/html": [
       "<div>\n",
       "<style scoped>\n",
       "    .dataframe tbody tr th:only-of-type {\n",
       "        vertical-align: middle;\n",
       "    }\n",
       "\n",
       "    .dataframe tbody tr th {\n",
       "        vertical-align: top;\n",
       "    }\n",
       "\n",
       "    .dataframe thead th {\n",
       "        text-align: right;\n",
       "    }\n",
       "</style>\n",
       "<table border=\"1\" class=\"dataframe\">\n",
       "  <thead>\n",
       "    <tr style=\"text-align: right;\">\n",
       "      <th></th>\n",
       "      <th>cols</th>\n",
       "      <th>rank</th>\n",
       "    </tr>\n",
       "  </thead>\n",
       "  <tbody>\n",
       "    <tr>\n",
       "      <td>28</td>\n",
       "      <td>PoolQC_present</td>\n",
       "      <td>44</td>\n",
       "    </tr>\n",
       "    <tr>\n",
       "      <td>30</td>\n",
       "      <td>MiscFeature_present</td>\n",
       "      <td>17</td>\n",
       "    </tr>\n",
       "    <tr>\n",
       "      <td>34</td>\n",
       "      <td>LowQualFin%</td>\n",
       "      <td>19</td>\n",
       "    </tr>\n",
       "    <tr>\n",
       "      <td>37</td>\n",
       "      <td>MSSubClass_40</td>\n",
       "      <td>41</td>\n",
       "    </tr>\n",
       "    <tr>\n",
       "      <td>38</td>\n",
       "      <td>MSSubClass_45</td>\n",
       "      <td>45</td>\n",
       "    </tr>\n",
       "    <tr>\n",
       "      <td>39</td>\n",
       "      <td>MSSubClass_50</td>\n",
       "      <td>2</td>\n",
       "    </tr>\n",
       "    <tr>\n",
       "      <td>40</td>\n",
       "      <td>MSSubClass_60</td>\n",
       "      <td>10</td>\n",
       "    </tr>\n",
       "    <tr>\n",
       "      <td>41</td>\n",
       "      <td>MSSubClass_70</td>\n",
       "      <td>4</td>\n",
       "    </tr>\n",
       "    <tr>\n",
       "      <td>42</td>\n",
       "      <td>MSSubClass_75</td>\n",
       "      <td>32</td>\n",
       "    </tr>\n",
       "    <tr>\n",
       "      <td>43</td>\n",
       "      <td>MSSubClass_80</td>\n",
       "      <td>5</td>\n",
       "    </tr>\n",
       "    <tr>\n",
       "      <td>46</td>\n",
       "      <td>MSSubClass_120</td>\n",
       "      <td>3</td>\n",
       "    </tr>\n",
       "    <tr>\n",
       "      <td>47</td>\n",
       "      <td>MSSubClass_150</td>\n",
       "      <td>30</td>\n",
       "    </tr>\n",
       "    <tr>\n",
       "      <td>48</td>\n",
       "      <td>MSSubClass_160</td>\n",
       "      <td>18</td>\n",
       "    </tr>\n",
       "    <tr>\n",
       "      <td>49</td>\n",
       "      <td>MSSubClass_180</td>\n",
       "      <td>25</td>\n",
       "    </tr>\n",
       "    <tr>\n",
       "      <td>50</td>\n",
       "      <td>MSSubClass_190</td>\n",
       "      <td>14</td>\n",
       "    </tr>\n",
       "    <tr>\n",
       "      <td>51</td>\n",
       "      <td>MSZoning_FV</td>\n",
       "      <td>7</td>\n",
       "    </tr>\n",
       "    <tr>\n",
       "      <td>52</td>\n",
       "      <td>MSZoning_RH</td>\n",
       "      <td>36</td>\n",
       "    </tr>\n",
       "    <tr>\n",
       "      <td>57</td>\n",
       "      <td>LotConfig_FR3</td>\n",
       "      <td>43</td>\n",
       "    </tr>\n",
       "    <tr>\n",
       "      <td>59</td>\n",
       "      <td>Neighborhood_Blueste</td>\n",
       "      <td>47</td>\n",
       "    </tr>\n",
       "    <tr>\n",
       "      <td>60</td>\n",
       "      <td>Neighborhood_BrDale</td>\n",
       "      <td>34</td>\n",
       "    </tr>\n",
       "    <tr>\n",
       "      <td>63</td>\n",
       "      <td>Neighborhood_CollgCr</td>\n",
       "      <td>11</td>\n",
       "    </tr>\n",
       "    <tr>\n",
       "      <td>66</td>\n",
       "      <td>Neighborhood_Gilbert</td>\n",
       "      <td>15</td>\n",
       "    </tr>\n",
       "    <tr>\n",
       "      <td>68</td>\n",
       "      <td>Neighborhood_MeadowV</td>\n",
       "      <td>39</td>\n",
       "    </tr>\n",
       "    <tr>\n",
       "      <td>71</td>\n",
       "      <td>Neighborhood_NPkVill</td>\n",
       "      <td>46</td>\n",
       "    </tr>\n",
       "    <tr>\n",
       "      <td>72</td>\n",
       "      <td>Neighborhood_NWAmes</td>\n",
       "      <td>12</td>\n",
       "    </tr>\n",
       "    <tr>\n",
       "      <td>74</td>\n",
       "      <td>Neighborhood_NridgHt</td>\n",
       "      <td>6</td>\n",
       "    </tr>\n",
       "    <tr>\n",
       "      <td>76</td>\n",
       "      <td>Neighborhood_SWISU</td>\n",
       "      <td>20</td>\n",
       "    </tr>\n",
       "    <tr>\n",
       "      <td>78</td>\n",
       "      <td>Neighborhood_SawyerW</td>\n",
       "      <td>9</td>\n",
       "    </tr>\n",
       "    <tr>\n",
       "      <td>81</td>\n",
       "      <td>Neighborhood_Timber</td>\n",
       "      <td>48</td>\n",
       "    </tr>\n",
       "    <tr>\n",
       "      <td>82</td>\n",
       "      <td>Neighborhood_Veenker</td>\n",
       "      <td>37</td>\n",
       "    </tr>\n",
       "    <tr>\n",
       "      <td>88</td>\n",
       "      <td>Foundation_Slab</td>\n",
       "      <td>16</td>\n",
       "    </tr>\n",
       "    <tr>\n",
       "      <td>89</td>\n",
       "      <td>Foundation_Stone</td>\n",
       "      <td>40</td>\n",
       "    </tr>\n",
       "    <tr>\n",
       "      <td>90</td>\n",
       "      <td>Foundation_Wood</td>\n",
       "      <td>21</td>\n",
       "    </tr>\n",
       "    <tr>\n",
       "      <td>92</td>\n",
       "      <td>BsmtExposure_Mn</td>\n",
       "      <td>8</td>\n",
       "    </tr>\n",
       "    <tr>\n",
       "      <td>93</td>\n",
       "      <td>BsmtExposure_NA</td>\n",
       "      <td>26</td>\n",
       "    </tr>\n",
       "    <tr>\n",
       "      <td>96</td>\n",
       "      <td>Functional_Maj2</td>\n",
       "      <td>33</td>\n",
       "    </tr>\n",
       "    <tr>\n",
       "      <td>97</td>\n",
       "      <td>Functional_Min1</td>\n",
       "      <td>42</td>\n",
       "    </tr>\n",
       "    <tr>\n",
       "      <td>98</td>\n",
       "      <td>Functional_Min2</td>\n",
       "      <td>38</td>\n",
       "    </tr>\n",
       "    <tr>\n",
       "      <td>99</td>\n",
       "      <td>Functional_Mod</td>\n",
       "      <td>31</td>\n",
       "    </tr>\n",
       "    <tr>\n",
       "      <td>100</td>\n",
       "      <td>Functional_Sev</td>\n",
       "      <td>29</td>\n",
       "    </tr>\n",
       "    <tr>\n",
       "      <td>103</td>\n",
       "      <td>GarageType_Basment</td>\n",
       "      <td>35</td>\n",
       "    </tr>\n",
       "    <tr>\n",
       "      <td>104</td>\n",
       "      <td>GarageType_BuiltIn</td>\n",
       "      <td>13</td>\n",
       "    </tr>\n",
       "    <tr>\n",
       "      <td>105</td>\n",
       "      <td>GarageType_CarPort</td>\n",
       "      <td>22</td>\n",
       "    </tr>\n",
       "    <tr>\n",
       "      <td>107</td>\n",
       "      <td>GarageType_NA</td>\n",
       "      <td>23</td>\n",
       "    </tr>\n",
       "    <tr>\n",
       "      <td>108</td>\n",
       "      <td>SaleCondition_AdjLand</td>\n",
       "      <td>24</td>\n",
       "    </tr>\n",
       "    <tr>\n",
       "      <td>109</td>\n",
       "      <td>SaleCondition_Alloca</td>\n",
       "      <td>27</td>\n",
       "    </tr>\n",
       "    <tr>\n",
       "      <td>110</td>\n",
       "      <td>SaleCondition_Family</td>\n",
       "      <td>28</td>\n",
       "    </tr>\n",
       "  </tbody>\n",
       "</table>\n",
       "</div>"
      ],
      "text/plain": [
       "                      cols  rank\n",
       "28          PoolQC_present    44\n",
       "30     MiscFeature_present    17\n",
       "34             LowQualFin%    19\n",
       "37           MSSubClass_40    41\n",
       "38           MSSubClass_45    45\n",
       "39           MSSubClass_50     2\n",
       "40           MSSubClass_60    10\n",
       "41           MSSubClass_70     4\n",
       "42           MSSubClass_75    32\n",
       "43           MSSubClass_80     5\n",
       "46          MSSubClass_120     3\n",
       "47          MSSubClass_150    30\n",
       "48          MSSubClass_160    18\n",
       "49          MSSubClass_180    25\n",
       "50          MSSubClass_190    14\n",
       "51             MSZoning_FV     7\n",
       "52             MSZoning_RH    36\n",
       "57           LotConfig_FR3    43\n",
       "59    Neighborhood_Blueste    47\n",
       "60     Neighborhood_BrDale    34\n",
       "63    Neighborhood_CollgCr    11\n",
       "66    Neighborhood_Gilbert    15\n",
       "68    Neighborhood_MeadowV    39\n",
       "71    Neighborhood_NPkVill    46\n",
       "72     Neighborhood_NWAmes    12\n",
       "74    Neighborhood_NridgHt     6\n",
       "76      Neighborhood_SWISU    20\n",
       "78    Neighborhood_SawyerW     9\n",
       "81     Neighborhood_Timber    48\n",
       "82    Neighborhood_Veenker    37\n",
       "88         Foundation_Slab    16\n",
       "89        Foundation_Stone    40\n",
       "90         Foundation_Wood    21\n",
       "92         BsmtExposure_Mn     8\n",
       "93         BsmtExposure_NA    26\n",
       "96         Functional_Maj2    33\n",
       "97         Functional_Min1    42\n",
       "98         Functional_Min2    38\n",
       "99          Functional_Mod    31\n",
       "100         Functional_Sev    29\n",
       "103     GarageType_Basment    35\n",
       "104     GarageType_BuiltIn    13\n",
       "105     GarageType_CarPort    22\n",
       "107          GarageType_NA    23\n",
       "108  SaleCondition_AdjLand    24\n",
       "109   SaleCondition_Alloca    27\n",
       "110   SaleCondition_Family    28"
      ]
     },
     "execution_count": 372,
     "metadata": {},
     "output_type": "execute_result"
    }
   ],
   "source": [
    "\n",
    "rfe=RFECV(lgb,scoring='neg_mean_absolute_error')\n",
    "mod=rfe.fit(x3,y3)\n",
    "feat=pd.DataFrame({'cols':x3.columns,'rank':mod.ranking_})\n",
    "feat[feat['rank']!=1]"
   ]
  },
  {
   "cell_type": "code",
   "execution_count": 389,
   "metadata": {},
   "outputs": [],
   "source": [
    "del r2_score"
   ]
  },
  {
   "cell_type": "code",
   "execution_count": 394,
   "metadata": {},
   "outputs": [
    {
     "name": "stderr",
     "output_type": "stream",
     "text": [
      "100%|██████████| 112/112 [00:42<00:00,  2.62it/s]\n"
     ]
    },
    {
     "name": "stdout",
     "output_type": "stream",
     "text": [
      "112\n",
      "0.8410175839354244\n"
     ]
    }
   ],
   "source": [
    "adjr2_score=[]\n",
    "r2score=[]\n",
    "high=0\n",
    "n=0\n",
    "for i in tqdm(range(1,x3.shape[1])):\n",
    "    rfe=RFE(lr,i)\n",
    "    xtr,xts,ytr,yts=train_test_split(x3,np.log(y),test_size=0.3,random_state=6969)\n",
    "    mr=rfe.fit_transform(xtr,ytr)\n",
    "    x_rfe=rfe.transform(xts)\n",
    "    m_rfe=lr.fit(mr,ytr)\n",
    "    pred=m_rfe.predict(x_rfe)\n",
    "    \n",
    "    r2,adr2=adj_r2(yts,pred,x_rfe.shape[0],i)\n",
    "    r2score.append(r2)\n",
    "    adjr2_score.append(adr2)\n",
    "    if adr2>high:\n",
    "        high=adr2\n",
    "        n=i\n",
    "print(i)\n",
    "print(high)\n",
    "    \n",
    "    "
   ]
  },
  {
   "cell_type": "code",
   "execution_count": null,
   "metadata": {},
   "outputs": [],
   "source": []
  }
 ],
 "metadata": {
  "kernelspec": {
   "display_name": "Python 3",
   "language": "python",
   "name": "python3"
  },
  "language_info": {
   "codemirror_mode": {
    "name": "ipython",
    "version": 3
   },
   "file_extension": ".py",
   "mimetype": "text/x-python",
   "name": "python",
   "nbconvert_exporter": "python",
   "pygments_lexer": "ipython3",
   "version": "3.7.4"
  }
 },
 "nbformat": 4,
 "nbformat_minor": 2
}
